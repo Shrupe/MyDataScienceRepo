{
 "cells": [
  {
   "cell_type": "code",
   "execution_count": 2,
   "id": "d0fee321-86a3-46a1-abd0-f85e3e625fd2",
   "metadata": {},
   "outputs": [
    {
     "name": "stderr",
     "output_type": "stream",
     "text": [
      "/tmp/ipykernel_12144/1927936323.py:10: TqdmDeprecationWarning: This function will be removed in tqdm==5.0.0\n",
      "Please use `tqdm.notebook.*` instead of `tqdm._tqdm_notebook.*`\n",
      "  from tqdm._tqdm_notebook import tqdm_notebook\n"
     ]
    }
   ],
   "source": [
    "import pandas as pd\n",
    "import numpy as np\n",
    "import torch\n",
    "import torch.nn as nn\n",
    "import torch.optim as optim\n",
    "from torch.utils.data import Dataset, DataLoader\n",
    "from sklearn.model_selection import train_test_split\n",
    "from sklearn.metrics import mean_absolute_error, mean_squared_error, r2_score\n",
    "from tqdm.notebook import tqdm\n",
    "from tqdm._tqdm_notebook import tqdm_notebook\n",
    "import os\n",
    "import gc\n",
    "import warnings\n",
    "warnings.filterwarnings('ignore')\n",
    "\n",
    "from config import CONTEST_PATH, TRAIN_CSV, SUPPLEMENT_PATH"
   ]
  },
  {
   "cell_type": "markdown",
   "id": "c57b9776-d73a-48c2-b9c3-0566ce5ba3dd",
   "metadata": {},
   "source": [
    "# EXPLORATION"
   ]
  },
  {
   "cell_type": "code",
   "execution_count": 3,
   "id": "2e1b2932-7963-46f7-9ea8-15a88348bcfd",
   "metadata": {},
   "outputs": [
    {
     "name": "stdout",
     "output_type": "stream",
     "text": [
      "/media/azizd/TOSHIBA-HDD/data/kaggle_data/neurips-open-polymer-prediction-2025/sample_submission.csv\n",
      "/media/azizd/TOSHIBA-HDD/data/kaggle_data/neurips-open-polymer-prediction-2025/test.csv\n",
      "/media/azizd/TOSHIBA-HDD/data/kaggle_data/neurips-open-polymer-prediction-2025/train.csv\n",
      "/media/azizd/TOSHIBA-HDD/data/kaggle_data/neurips-open-polymer-prediction-2025/train_supplement/dataset1.csv\n",
      "/media/azizd/TOSHIBA-HDD/data/kaggle_data/neurips-open-polymer-prediction-2025/train_supplement/dataset2.csv\n",
      "/media/azizd/TOSHIBA-HDD/data/kaggle_data/neurips-open-polymer-prediction-2025/train_supplement/dataset3.csv\n",
      "/media/azizd/TOSHIBA-HDD/data/kaggle_data/neurips-open-polymer-prediction-2025/train_supplement/dataset4.csv\n"
     ]
    }
   ],
   "source": [
    "for dirname, _, filenames in os.walk(CONTEST_PATH):\n",
    "    for filename in filenames:\n",
    "        print(os.path.join(dirname, filename))"
   ]
  },
  {
   "cell_type": "code",
   "execution_count": 4,
   "id": "b1493672-0edd-40c5-abe8-e9f63623a6f0",
   "metadata": {
    "editable": true,
    "slideshow": {
     "slide_type": ""
    },
    "tags": []
   },
   "outputs": [
    {
     "data": {
      "text/html": [
       "<div>\n",
       "<style scoped>\n",
       "    .dataframe tbody tr th:only-of-type {\n",
       "        vertical-align: middle;\n",
       "    }\n",
       "\n",
       "    .dataframe tbody tr th {\n",
       "        vertical-align: top;\n",
       "    }\n",
       "\n",
       "    .dataframe thead th {\n",
       "        text-align: right;\n",
       "    }\n",
       "</style>\n",
       "<table border=\"1\" class=\"dataframe\">\n",
       "  <thead>\n",
       "    <tr style=\"text-align: right;\">\n",
       "      <th></th>\n",
       "      <th>id</th>\n",
       "      <th>SMILES</th>\n",
       "      <th>Tg</th>\n",
       "      <th>FFV</th>\n",
       "      <th>Tc</th>\n",
       "      <th>Density</th>\n",
       "      <th>Rg</th>\n",
       "    </tr>\n",
       "  </thead>\n",
       "  <tbody>\n",
       "    <tr>\n",
       "      <th>0</th>\n",
       "      <td>87817</td>\n",
       "      <td>*CC(*)c1ccccc1C(=O)OCCCCCC</td>\n",
       "      <td>NaN</td>\n",
       "      <td>0.374645</td>\n",
       "      <td>0.205667</td>\n",
       "      <td>NaN</td>\n",
       "      <td>NaN</td>\n",
       "    </tr>\n",
       "    <tr>\n",
       "      <th>1</th>\n",
       "      <td>106919</td>\n",
       "      <td>*Nc1ccc([C@H](CCC)c2ccc(C3(c4ccc([C@@H](CCC)c5...</td>\n",
       "      <td>NaN</td>\n",
       "      <td>0.370410</td>\n",
       "      <td>NaN</td>\n",
       "      <td>NaN</td>\n",
       "      <td>NaN</td>\n",
       "    </tr>\n",
       "    <tr>\n",
       "      <th>2</th>\n",
       "      <td>388772</td>\n",
       "      <td>*Oc1ccc(S(=O)(=O)c2ccc(Oc3ccc(C4(c5ccc(Oc6ccc(...</td>\n",
       "      <td>NaN</td>\n",
       "      <td>0.378860</td>\n",
       "      <td>NaN</td>\n",
       "      <td>NaN</td>\n",
       "      <td>NaN</td>\n",
       "    </tr>\n",
       "    <tr>\n",
       "      <th>3</th>\n",
       "      <td>519416</td>\n",
       "      <td>*Nc1ccc(-c2c(-c3ccc(C)cc3)c(-c3ccc(C)cc3)c(N*)...</td>\n",
       "      <td>NaN</td>\n",
       "      <td>0.387324</td>\n",
       "      <td>NaN</td>\n",
       "      <td>NaN</td>\n",
       "      <td>NaN</td>\n",
       "    </tr>\n",
       "    <tr>\n",
       "      <th>4</th>\n",
       "      <td>539187</td>\n",
       "      <td>*Oc1ccc(OC(=O)c2cc(OCCCCCCCCCOCC3CCCN3c3ccc([N...</td>\n",
       "      <td>NaN</td>\n",
       "      <td>0.355470</td>\n",
       "      <td>NaN</td>\n",
       "      <td>NaN</td>\n",
       "      <td>NaN</td>\n",
       "    </tr>\n",
       "    <tr>\n",
       "      <th>5</th>\n",
       "      <td>950661</td>\n",
       "      <td>*OC(=O)CCCCCCCCC(=O)OC1COC2C(*)COC12</td>\n",
       "      <td>NaN</td>\n",
       "      <td>0.339093</td>\n",
       "      <td>NaN</td>\n",
       "      <td>NaN</td>\n",
       "      <td>NaN</td>\n",
       "    </tr>\n",
       "    <tr>\n",
       "      <th>6</th>\n",
       "      <td>1012066</td>\n",
       "      <td>*Nc1ccc([C@H]2[C@@H]3C[C@H]4C[C@@H](C3)C[C@@H]...</td>\n",
       "      <td>NaN</td>\n",
       "      <td>0.347616</td>\n",
       "      <td>NaN</td>\n",
       "      <td>NaN</td>\n",
       "      <td>NaN</td>\n",
       "    </tr>\n",
       "    <tr>\n",
       "      <th>7</th>\n",
       "      <td>1022104</td>\n",
       "      <td>*C(=O)Nc1ccc(Oc2ccc(Oc3ccc(NC(=O)c4ccc5c(c4)C(...</td>\n",
       "      <td>NaN</td>\n",
       "      <td>0.377545</td>\n",
       "      <td>NaN</td>\n",
       "      <td>NaN</td>\n",
       "      <td>NaN</td>\n",
       "    </tr>\n",
       "    <tr>\n",
       "      <th>8</th>\n",
       "      <td>1722264</td>\n",
       "      <td>*CC(*)(C)C(=O)OCCCCCCCCCOc1ccc2cc(C(=O)Oc3cccc...</td>\n",
       "      <td>NaN</td>\n",
       "      <td>0.359176</td>\n",
       "      <td>NaN</td>\n",
       "      <td>NaN</td>\n",
       "      <td>NaN</td>\n",
       "    </tr>\n",
       "    <tr>\n",
       "      <th>9</th>\n",
       "      <td>2265305</td>\n",
       "      <td>*Nc1ccc(-c2ccc(-c3ccc(N*)cc3)cc2)cc1</td>\n",
       "      <td>NaN</td>\n",
       "      <td>0.341878</td>\n",
       "      <td>NaN</td>\n",
       "      <td>NaN</td>\n",
       "      <td>NaN</td>\n",
       "    </tr>\n",
       "  </tbody>\n",
       "</table>\n",
       "</div>"
      ],
      "text/plain": [
       "        id                                             SMILES  Tg       FFV  \\\n",
       "0    87817                         *CC(*)c1ccccc1C(=O)OCCCCCC NaN  0.374645   \n",
       "1   106919  *Nc1ccc([C@H](CCC)c2ccc(C3(c4ccc([C@@H](CCC)c5... NaN  0.370410   \n",
       "2   388772  *Oc1ccc(S(=O)(=O)c2ccc(Oc3ccc(C4(c5ccc(Oc6ccc(... NaN  0.378860   \n",
       "3   519416  *Nc1ccc(-c2c(-c3ccc(C)cc3)c(-c3ccc(C)cc3)c(N*)... NaN  0.387324   \n",
       "4   539187  *Oc1ccc(OC(=O)c2cc(OCCCCCCCCCOCC3CCCN3c3ccc([N... NaN  0.355470   \n",
       "5   950661               *OC(=O)CCCCCCCCC(=O)OC1COC2C(*)COC12 NaN  0.339093   \n",
       "6  1012066  *Nc1ccc([C@H]2[C@@H]3C[C@H]4C[C@@H](C3)C[C@@H]... NaN  0.347616   \n",
       "7  1022104  *C(=O)Nc1ccc(Oc2ccc(Oc3ccc(NC(=O)c4ccc5c(c4)C(... NaN  0.377545   \n",
       "8  1722264  *CC(*)(C)C(=O)OCCCCCCCCCOc1ccc2cc(C(=O)Oc3cccc... NaN  0.359176   \n",
       "9  2265305               *Nc1ccc(-c2ccc(-c3ccc(N*)cc3)cc2)cc1 NaN  0.341878   \n",
       "\n",
       "         Tc  Density  Rg  \n",
       "0  0.205667      NaN NaN  \n",
       "1       NaN      NaN NaN  \n",
       "2       NaN      NaN NaN  \n",
       "3       NaN      NaN NaN  \n",
       "4       NaN      NaN NaN  \n",
       "5       NaN      NaN NaN  \n",
       "6       NaN      NaN NaN  \n",
       "7       NaN      NaN NaN  \n",
       "8       NaN      NaN NaN  \n",
       "9       NaN      NaN NaN  "
      ]
     },
     "execution_count": 4,
     "metadata": {},
     "output_type": "execute_result"
    }
   ],
   "source": [
    "main_df = pd.read_csv(TRAIN_CSV)\n",
    "main_df.head(10)"
   ]
  },
  {
   "cell_type": "code",
   "execution_count": 5,
   "id": "958983c2-5c28-4070-8ea9-03624eaa5b55",
   "metadata": {},
   "outputs": [
    {
     "name": "stdout",
     "output_type": "stream",
     "text": [
      "<class 'pandas.core.frame.DataFrame'>\n",
      "RangeIndex: 7973 entries, 0 to 7972\n",
      "Data columns (total 7 columns):\n",
      " #   Column   Non-Null Count  Dtype  \n",
      "---  ------   --------------  -----  \n",
      " 0   id       7973 non-null   int64  \n",
      " 1   SMILES   7973 non-null   object \n",
      " 2   Tg       511 non-null    float64\n",
      " 3   FFV      7030 non-null   float64\n",
      " 4   Tc       737 non-null    float64\n",
      " 5   Density  613 non-null    float64\n",
      " 6   Rg       614 non-null    float64\n",
      "dtypes: float64(5), int64(1), object(1)\n",
      "memory usage: 436.1+ KB\n"
     ]
    }
   ],
   "source": [
    "main_df.info()"
   ]
  },
  {
   "cell_type": "code",
   "execution_count": 6,
   "id": "761c72bb-ff34-4942-888c-cb8bd9bba545",
   "metadata": {},
   "outputs": [
    {
     "name": "stdout",
     "output_type": "stream",
     "text": [
      "<class 'pandas.core.frame.DataFrame'>\n",
      "RangeIndex: 874 entries, 0 to 873\n",
      "Data columns (total 2 columns):\n",
      " #   Column   Non-Null Count  Dtype  \n",
      "---  ------   --------------  -----  \n",
      " 0   SMILES   874 non-null    object \n",
      " 1   TC_mean  874 non-null    float64\n",
      "dtypes: float64(1), object(1)\n",
      "memory usage: 13.8+ KB\n"
     ]
    }
   ],
   "source": [
    "supp1_df = pd.read_csv(\"/media/azizd/TOSHIBA-HDD/data/kaggle_data/neurips-open-polymer-prediction-2025/train_supplement/dataset1.csv\")\n",
    "supp1_df.info()"
   ]
  },
  {
   "cell_type": "code",
   "execution_count": 7,
   "id": "a5401d68-05bb-431b-b652-c4f25c2344ec",
   "metadata": {},
   "outputs": [
    {
     "name": "stdout",
     "output_type": "stream",
     "text": [
      "<class 'pandas.core.frame.DataFrame'>\n",
      "RangeIndex: 7208 entries, 0 to 7207\n",
      "Data columns (total 1 columns):\n",
      " #   Column  Non-Null Count  Dtype \n",
      "---  ------  --------------  ----- \n",
      " 0   SMILES  7208 non-null   object\n",
      "dtypes: object(1)\n",
      "memory usage: 56.4+ KB\n"
     ]
    }
   ],
   "source": [
    "supp2_df = pd.read_csv(\"/media/azizd/TOSHIBA-HDD/data/kaggle_data/neurips-open-polymer-prediction-2025/train_supplement/dataset2.csv\")\n",
    "supp2_df.info()"
   ]
  },
  {
   "cell_type": "code",
   "execution_count": 8,
   "id": "d2321b6b-39c5-45d7-9f22-9ed06a75937a",
   "metadata": {},
   "outputs": [
    {
     "name": "stdout",
     "output_type": "stream",
     "text": [
      "<class 'pandas.core.frame.DataFrame'>\n",
      "RangeIndex: 46 entries, 0 to 45\n",
      "Data columns (total 2 columns):\n",
      " #   Column  Non-Null Count  Dtype  \n",
      "---  ------  --------------  -----  \n",
      " 0   SMILES  46 non-null     object \n",
      " 1   Tg      46 non-null     float64\n",
      "dtypes: float64(1), object(1)\n",
      "memory usage: 864.0+ bytes\n"
     ]
    }
   ],
   "source": [
    "supp3_df = pd.read_csv(\"/media/azizd/TOSHIBA-HDD/data/kaggle_data/neurips-open-polymer-prediction-2025/train_supplement/dataset3.csv\")\n",
    "supp3_df.info()"
   ]
  },
  {
   "cell_type": "code",
   "execution_count": 9,
   "id": "1fd0e32b-5086-4de8-a7fe-c4f1037a6956",
   "metadata": {},
   "outputs": [
    {
     "name": "stdout",
     "output_type": "stream",
     "text": [
      "<class 'pandas.core.frame.DataFrame'>\n",
      "RangeIndex: 862 entries, 0 to 861\n",
      "Data columns (total 2 columns):\n",
      " #   Column  Non-Null Count  Dtype  \n",
      "---  ------  --------------  -----  \n",
      " 0   SMILES  862 non-null    object \n",
      " 1   FFV     862 non-null    float64\n",
      "dtypes: float64(1), object(1)\n",
      "memory usage: 13.6+ KB\n"
     ]
    }
   ],
   "source": [
    "supp4_df = pd.read_csv(\"/media/azizd/TOSHIBA-HDD/data/kaggle_data/neurips-open-polymer-prediction-2025/train_supplement/dataset4.csv\")\n",
    "supp4_df.info()"
   ]
  },
  {
   "cell_type": "markdown",
   "id": "3322bde4-9ce8-4f4a-966b-8865b81517ea",
   "metadata": {},
   "source": [
    "# PREPROCESSING"
   ]
  },
  {
   "cell_type": "code",
   "execution_count": 10,
   "id": "085784b9-54aa-4657-846a-294424792a3c",
   "metadata": {},
   "outputs": [],
   "source": [
    "# Set random seeds for reproducibility\n",
    "torch.manual_seed(42)\n",
    "np.random.seed(42)\n",
    "\n",
    "target_columns = ['Tg', 'FFV', 'Tc', 'Density', 'Rg']"
   ]
  },
  {
   "cell_type": "code",
   "execution_count": 11,
   "id": "a7faed23-47ef-46e2-b5b3-ed77599bf8de",
   "metadata": {},
   "outputs": [],
   "source": [
    "# Load and combine all data sources\n",
    "def load_and_combine_data():\n",
    "    # Load main training data\n",
    "    main_df = pd.read_csv(TRAIN_CSV)\n",
    "    \n",
    "    # Load supplementary datasets\n",
    "    supplement_dfs = []\n",
    "    supplement_path = SUPPLEMENT_PATH\n",
    "    \n",
    "    for i in range(1, 5):\n",
    "        file_path = os.path.join(supplement_path, f'dataset{i}.csv')\n",
    "        if os.path.exists(file_path):\n",
    "            df = pd.read_csv(file_path)\n",
    "            \n",
    "            # Ensure required columns exist\n",
    "            for col in target_columns:\n",
    "                if col not in df.columns:\n",
    "                    df[col] = np.nan\n",
    "                    \n",
    "            # Only keep relevant columns\n",
    "            df = df[['SMILES'] + target_columns]\n",
    "            supplement_dfs.append(df)\n",
    "    \n",
    "    # Combine all data\n",
    "    combined_df = pd.concat([main_df] + supplement_dfs, ignore_index=True)\n",
    "    \n",
    "    # Remove duplicate SMILES (keep first occurrence)\n",
    "    combined_df = combined_df.drop_duplicates(subset=['SMILES'])\n",
    "    \n",
    "    # Clean SMILES strings\n",
    "    combined_df['SMILES'] = combined_df['SMILES'].str.strip()\n",
    "    \n",
    "    return combined_df"
   ]
  },
  {
   "cell_type": "code",
   "execution_count": 12,
   "id": "95fa6b6d-09f0-4ac5-bd98-a7a837dbfdb4",
   "metadata": {},
   "outputs": [],
   "source": [
    "#!pip install rdkit-pypi tqdm"
   ]
  },
  {
   "cell_type": "code",
   "execution_count": 13,
   "id": "1bc3fd3b-c374-487c-9ec2-5986557f0c86",
   "metadata": {},
   "outputs": [],
   "source": [
    "# Calculate molecular descriptors (RDKit required)\n",
    "def compute_molecular_features(smiles):\n",
    "    try:\n",
    "        from rdkit import Chem\n",
    "        from rdkit.Chem import Descriptors\n",
    "        \n",
    "        mol = Chem.MolFromSmiles(smiles)\n",
    "        if mol is None:\n",
    "            return np.zeros(10)  # Return zeros for invalid SMILES\n",
    "            \n",
    "        features = [\n",
    "            Descriptors.MolWt(mol),                # Molecular weight\n",
    "            Descriptors.HeavyAtomCount(mol),        # Number of heavy atoms\n",
    "            Descriptors.NumHAcceptors(mol),         # Hydrogen bond acceptors\n",
    "            Descriptors.NumHDonors(mol),            # Hydrogen bond donors\n",
    "            Descriptors.TPSA(mol),                  # Polar surface area\n",
    "            Descriptors.MolLogP(mol),               # Octanol-water partition coefficient\n",
    "            Descriptors.RingCount(mol),             # Number of rings\n",
    "            Descriptors.NumRotatableBonds(mol),     # Rotatable bonds\n",
    "            Descriptors.FractionCSP3(mol),          # Fraction of sp3 carbons\n",
    "            Descriptors.NumAromaticRings(mol)       # Aromatic rings\n",
    "        ]\n",
    "        return np.array(features)\n",
    "    \n",
    "    except ImportError:\n",
    "        # Fallback to simple features if RDKit not available\n",
    "        return np.array([\n",
    "            len(smiles),                           # SMILES length\n",
    "            smiles.count('C'),                     # Carbon atoms\n",
    "            smiles.count('O'),                     # Oxygen atoms\n",
    "            smiles.count('N'),                     # Nitrogen atoms\n",
    "            smiles.count('('),                     # Branch openings\n",
    "            smiles.count(')'),                     # Branch closings\n",
    "            smiles.count('='),                     # Double bonds\n",
    "            smiles.count('#'),                     # Triple bonds\n",
    "            smiles.count('1'),                     # Ring closures\n",
    "            smiles.count('@')                      # Chirality indicators\n",
    "        ])"
   ]
  },
  {
   "cell_type": "code",
   "execution_count": 14,
   "id": "90f45e3a-4f57-4d00-a728-283e2b86ebd2",
   "metadata": {},
   "outputs": [
    {
     "data": {
      "text/html": [
       "<div>\n",
       "<style scoped>\n",
       "    .dataframe tbody tr th:only-of-type {\n",
       "        vertical-align: middle;\n",
       "    }\n",
       "\n",
       "    .dataframe tbody tr th {\n",
       "        vertical-align: top;\n",
       "    }\n",
       "\n",
       "    .dataframe thead th {\n",
       "        text-align: right;\n",
       "    }\n",
       "</style>\n",
       "<table border=\"1\" class=\"dataframe\">\n",
       "  <thead>\n",
       "    <tr style=\"text-align: right;\">\n",
       "      <th></th>\n",
       "      <th>id</th>\n",
       "      <th>SMILES</th>\n",
       "      <th>Tg</th>\n",
       "      <th>FFV</th>\n",
       "      <th>Tc</th>\n",
       "      <th>Density</th>\n",
       "      <th>Rg</th>\n",
       "    </tr>\n",
       "  </thead>\n",
       "  <tbody>\n",
       "    <tr>\n",
       "      <th>0</th>\n",
       "      <td>87817.0</td>\n",
       "      <td>*CC(*)c1ccccc1C(=O)OCCCCCC</td>\n",
       "      <td>NaN</td>\n",
       "      <td>0.374645</td>\n",
       "      <td>0.205667</td>\n",
       "      <td>NaN</td>\n",
       "      <td>NaN</td>\n",
       "    </tr>\n",
       "    <tr>\n",
       "      <th>1</th>\n",
       "      <td>106919.0</td>\n",
       "      <td>*Nc1ccc([C@H](CCC)c2ccc(C3(c4ccc([C@@H](CCC)c5...</td>\n",
       "      <td>NaN</td>\n",
       "      <td>0.370410</td>\n",
       "      <td>NaN</td>\n",
       "      <td>NaN</td>\n",
       "      <td>NaN</td>\n",
       "    </tr>\n",
       "    <tr>\n",
       "      <th>2</th>\n",
       "      <td>388772.0</td>\n",
       "      <td>*Oc1ccc(S(=O)(=O)c2ccc(Oc3ccc(C4(c5ccc(Oc6ccc(...</td>\n",
       "      <td>NaN</td>\n",
       "      <td>0.378860</td>\n",
       "      <td>NaN</td>\n",
       "      <td>NaN</td>\n",
       "      <td>NaN</td>\n",
       "    </tr>\n",
       "    <tr>\n",
       "      <th>3</th>\n",
       "      <td>519416.0</td>\n",
       "      <td>*Nc1ccc(-c2c(-c3ccc(C)cc3)c(-c3ccc(C)cc3)c(N*)...</td>\n",
       "      <td>NaN</td>\n",
       "      <td>0.387324</td>\n",
       "      <td>NaN</td>\n",
       "      <td>NaN</td>\n",
       "      <td>NaN</td>\n",
       "    </tr>\n",
       "    <tr>\n",
       "      <th>4</th>\n",
       "      <td>539187.0</td>\n",
       "      <td>*Oc1ccc(OC(=O)c2cc(OCCCCCCCCCOCC3CCCN3c3ccc([N...</td>\n",
       "      <td>NaN</td>\n",
       "      <td>0.355470</td>\n",
       "      <td>NaN</td>\n",
       "      <td>NaN</td>\n",
       "      <td>NaN</td>\n",
       "    </tr>\n",
       "  </tbody>\n",
       "</table>\n",
       "</div>"
      ],
      "text/plain": [
       "         id                                             SMILES  Tg       FFV  \\\n",
       "0   87817.0                         *CC(*)c1ccccc1C(=O)OCCCCCC NaN  0.374645   \n",
       "1  106919.0  *Nc1ccc([C@H](CCC)c2ccc(C3(c4ccc([C@@H](CCC)c5... NaN  0.370410   \n",
       "2  388772.0  *Oc1ccc(S(=O)(=O)c2ccc(Oc3ccc(C4(c5ccc(Oc6ccc(... NaN  0.378860   \n",
       "3  519416.0  *Nc1ccc(-c2c(-c3ccc(C)cc3)c(-c3ccc(C)cc3)c(N*)... NaN  0.387324   \n",
       "4  539187.0  *Oc1ccc(OC(=O)c2cc(OCCCCCCCCCOCC3CCCN3c3ccc([N... NaN  0.355470   \n",
       "\n",
       "         Tc  Density  Rg  \n",
       "0  0.205667      NaN NaN  \n",
       "1       NaN      NaN NaN  \n",
       "2       NaN      NaN NaN  \n",
       "3       NaN      NaN NaN  \n",
       "4       NaN      NaN NaN  "
      ]
     },
     "execution_count": 14,
     "metadata": {},
     "output_type": "execute_result"
    }
   ],
   "source": [
    "# Main data processing pipeline\n",
    "combined_df = load_and_combine_data()\n",
    "\n",
    "combined_df.head()"
   ]
  },
  {
   "cell_type": "code",
   "execution_count": 15,
   "id": "6c0808d3-23fc-4cc6-80a0-7a38b986ed8f",
   "metadata": {},
   "outputs": [
    {
     "name": "stdout",
     "output_type": "stream",
     "text": [
      "Computing molecular features...\n"
     ]
    },
    {
     "data": {
      "application/vnd.jupyter.widget-view+json": {
       "model_id": "c83cf109faec48bebb424499b0fa5bbe",
       "version_major": 2,
       "version_minor": 0
      },
      "text/plain": [
       "  0%|          | 0/10345 [00:00<?, ?it/s]"
      ]
     },
     "metadata": {},
     "output_type": "display_data"
    },
    {
     "name": "stderr",
     "output_type": "stream",
     "text": [
      "\n",
      "A module that was compiled using NumPy 1.x cannot be run in\n",
      "NumPy 2.1.3 as it may crash. To support both 1.x and 2.x\n",
      "versions of NumPy, modules must be compiled with NumPy 2.0.\n",
      "Some module may need to rebuild instead e.g. with 'pybind11>=2.12'.\n",
      "\n",
      "If you are a user of the module, the easiest solution will be to\n",
      "downgrade to 'numpy<2' or try to upgrade the affected module.\n",
      "We expect that some modules will need time to support NumPy 2.\n",
      "\n",
      "Traceback (most recent call last):  File \"/home/azizd/miniconda3/envs/kaggle-gpu/lib/python3.10/runpy.py\", line 196, in _run_module_as_main\n",
      "    return _run_code(code, main_globals, None,\n",
      "  File \"/home/azizd/miniconda3/envs/kaggle-gpu/lib/python3.10/runpy.py\", line 86, in _run_code\n",
      "    exec(code, run_globals)\n",
      "  File \"/home/azizd/miniconda3/envs/kaggle-gpu/lib/python3.10/site-packages/ipykernel_launcher.py\", line 18, in <module>\n",
      "    app.launch_new_instance()\n",
      "  File \"/home/azizd/miniconda3/envs/kaggle-gpu/lib/python3.10/site-packages/traitlets/config/application.py\", line 1075, in launch_instance\n",
      "    app.start()\n",
      "  File \"/home/azizd/miniconda3/envs/kaggle-gpu/lib/python3.10/site-packages/ipykernel/kernelapp.py\", line 739, in start\n",
      "    self.io_loop.start()\n",
      "  File \"/home/azizd/miniconda3/envs/kaggle-gpu/lib/python3.10/site-packages/tornado/platform/asyncio.py\", line 211, in start\n",
      "    self.asyncio_loop.run_forever()\n",
      "  File \"/home/azizd/miniconda3/envs/kaggle-gpu/lib/python3.10/asyncio/base_events.py\", line 603, in run_forever\n",
      "    self._run_once()\n",
      "  File \"/home/azizd/miniconda3/envs/kaggle-gpu/lib/python3.10/asyncio/base_events.py\", line 1909, in _run_once\n",
      "    handle._run()\n",
      "  File \"/home/azizd/miniconda3/envs/kaggle-gpu/lib/python3.10/asyncio/events.py\", line 80, in _run\n",
      "    self._context.run(self._callback, *self._args)\n",
      "  File \"/home/azizd/miniconda3/envs/kaggle-gpu/lib/python3.10/site-packages/ipykernel/kernelbase.py\", line 545, in dispatch_queue\n",
      "    await self.process_one()\n",
      "  File \"/home/azizd/miniconda3/envs/kaggle-gpu/lib/python3.10/site-packages/ipykernel/kernelbase.py\", line 534, in process_one\n",
      "    await dispatch(*args)\n",
      "  File \"/home/azizd/miniconda3/envs/kaggle-gpu/lib/python3.10/site-packages/ipykernel/kernelbase.py\", line 437, in dispatch_shell\n",
      "    await result\n",
      "  File \"/home/azizd/miniconda3/envs/kaggle-gpu/lib/python3.10/site-packages/ipykernel/ipkernel.py\", line 362, in execute_request\n",
      "    await super().execute_request(stream, ident, parent)\n",
      "  File \"/home/azizd/miniconda3/envs/kaggle-gpu/lib/python3.10/site-packages/ipykernel/kernelbase.py\", line 778, in execute_request\n",
      "    reply_content = await reply_content\n",
      "  File \"/home/azizd/miniconda3/envs/kaggle-gpu/lib/python3.10/site-packages/ipykernel/ipkernel.py\", line 449, in do_execute\n",
      "    res = shell.run_cell(\n",
      "  File \"/home/azizd/miniconda3/envs/kaggle-gpu/lib/python3.10/site-packages/ipykernel/zmqshell.py\", line 549, in run_cell\n",
      "    return super().run_cell(*args, **kwargs)\n",
      "  File \"/home/azizd/miniconda3/envs/kaggle-gpu/lib/python3.10/site-packages/IPython/core/interactiveshell.py\", line 3075, in run_cell\n",
      "    result = self._run_cell(\n",
      "  File \"/home/azizd/miniconda3/envs/kaggle-gpu/lib/python3.10/site-packages/IPython/core/interactiveshell.py\", line 3130, in _run_cell\n",
      "    result = runner(coro)\n",
      "  File \"/home/azizd/miniconda3/envs/kaggle-gpu/lib/python3.10/site-packages/IPython/core/async_helpers.py\", line 128, in _pseudo_sync_runner\n",
      "    coro.send(None)\n",
      "  File \"/home/azizd/miniconda3/envs/kaggle-gpu/lib/python3.10/site-packages/IPython/core/interactiveshell.py\", line 3334, in run_cell_async\n",
      "    has_raised = await self.run_ast_nodes(code_ast.body, cell_name,\n",
      "  File \"/home/azizd/miniconda3/envs/kaggle-gpu/lib/python3.10/site-packages/IPython/core/interactiveshell.py\", line 3517, in run_ast_nodes\n",
      "    if await self.run_code(code, result, async_=asy):\n",
      "  File \"/home/azizd/miniconda3/envs/kaggle-gpu/lib/python3.10/site-packages/IPython/core/interactiveshell.py\", line 3577, in run_code\n",
      "    exec(code_obj, self.user_global_ns, self.user_ns)\n",
      "  File \"/tmp/ipykernel_12144/112526433.py\", line 4, in <module>\n",
      "    combined_df['features'] = combined_df['SMILES'].progress_apply(compute_molecular_features)\n",
      "  File \"/home/azizd/miniconda3/envs/kaggle-gpu/lib/python3.10/site-packages/tqdm/std.py\", line 917, in inner\n",
      "    return getattr(df, df_function)(wrapper, **kwargs)\n",
      "  File \"/home/azizd/miniconda3/envs/kaggle-gpu/lib/python3.10/site-packages/pandas/core/series.py\", line 4924, in apply\n",
      "    ).apply()\n",
      "  File \"/home/azizd/miniconda3/envs/kaggle-gpu/lib/python3.10/site-packages/pandas/core/apply.py\", line 1427, in apply\n",
      "    return self.apply_standard()\n",
      "  File \"/home/azizd/miniconda3/envs/kaggle-gpu/lib/python3.10/site-packages/pandas/core/apply.py\", line 1507, in apply_standard\n",
      "    mapped = obj._map_values(\n",
      "  File \"/home/azizd/miniconda3/envs/kaggle-gpu/lib/python3.10/site-packages/pandas/core/base.py\", line 921, in _map_values\n",
      "    return algorithms.map_array(arr, mapper, na_action=na_action, convert=convert)\n",
      "  File \"/home/azizd/miniconda3/envs/kaggle-gpu/lib/python3.10/site-packages/pandas/core/algorithms.py\", line 1743, in map_array\n",
      "    return lib.map_infer(values, mapper, convert=convert)\n",
      "  File \"/home/azizd/miniconda3/envs/kaggle-gpu/lib/python3.10/site-packages/tqdm/std.py\", line 912, in wrapper\n",
      "    return func(*args, **kwargs)\n",
      "  File \"/tmp/ipykernel_12144/2365649916.py\", line 4, in compute_molecular_features\n",
      "    from rdkit import Chem\n",
      "  File \"/home/azizd/miniconda3/envs/kaggle-gpu/lib/python3.10/site-packages/rdkit/__init__.py\", line 23, in <module>\n",
      "    from rdkit.Chem.Draw import IPythonConsole\n",
      "  File \"/home/azizd/miniconda3/envs/kaggle-gpu/lib/python3.10/site-packages/rdkit/Chem/__init__.py\", line 18, in <module>\n",
      "    from rdkit import DataStructs\n",
      "  File \"/home/azizd/miniconda3/envs/kaggle-gpu/lib/python3.10/site-packages/rdkit/DataStructs/__init__.py\", line 13, in <module>\n",
      "    from rdkit.DataStructs import cDataStructs\n"
     ]
    },
    {
     "ename": "AttributeError",
     "evalue": "_ARRAY_API not found",
     "output_type": "error",
     "traceback": [
      "\u001b[0;31m---------------------------------------------------------------------------\u001b[0m",
      "\u001b[0;31mAttributeError\u001b[0m                            Traceback (most recent call last)",
      "\u001b[0;31mAttributeError\u001b[0m: _ARRAY_API not found"
     ]
    },
    {
     "name": "stderr",
     "output_type": "stream",
     "text": [
      "\n",
      "A module that was compiled using NumPy 1.x cannot be run in\n",
      "NumPy 2.1.3 as it may crash. To support both 1.x and 2.x\n",
      "versions of NumPy, modules must be compiled with NumPy 2.0.\n",
      "Some module may need to rebuild instead e.g. with 'pybind11>=2.12'.\n",
      "\n",
      "If you are a user of the module, the easiest solution will be to\n",
      "downgrade to 'numpy<2' or try to upgrade the affected module.\n",
      "We expect that some modules will need time to support NumPy 2.\n",
      "\n",
      "Traceback (most recent call last):  File \"/home/azizd/miniconda3/envs/kaggle-gpu/lib/python3.10/runpy.py\", line 196, in _run_module_as_main\n",
      "    return _run_code(code, main_globals, None,\n",
      "  File \"/home/azizd/miniconda3/envs/kaggle-gpu/lib/python3.10/runpy.py\", line 86, in _run_code\n",
      "    exec(code, run_globals)\n",
      "  File \"/home/azizd/miniconda3/envs/kaggle-gpu/lib/python3.10/site-packages/ipykernel_launcher.py\", line 18, in <module>\n",
      "    app.launch_new_instance()\n",
      "  File \"/home/azizd/miniconda3/envs/kaggle-gpu/lib/python3.10/site-packages/traitlets/config/application.py\", line 1075, in launch_instance\n",
      "    app.start()\n",
      "  File \"/home/azizd/miniconda3/envs/kaggle-gpu/lib/python3.10/site-packages/ipykernel/kernelapp.py\", line 739, in start\n",
      "    self.io_loop.start()\n",
      "  File \"/home/azizd/miniconda3/envs/kaggle-gpu/lib/python3.10/site-packages/tornado/platform/asyncio.py\", line 211, in start\n",
      "    self.asyncio_loop.run_forever()\n",
      "  File \"/home/azizd/miniconda3/envs/kaggle-gpu/lib/python3.10/asyncio/base_events.py\", line 603, in run_forever\n",
      "    self._run_once()\n",
      "  File \"/home/azizd/miniconda3/envs/kaggle-gpu/lib/python3.10/asyncio/base_events.py\", line 1909, in _run_once\n",
      "    handle._run()\n",
      "  File \"/home/azizd/miniconda3/envs/kaggle-gpu/lib/python3.10/asyncio/events.py\", line 80, in _run\n",
      "    self._context.run(self._callback, *self._args)\n",
      "  File \"/home/azizd/miniconda3/envs/kaggle-gpu/lib/python3.10/site-packages/ipykernel/kernelbase.py\", line 545, in dispatch_queue\n",
      "    await self.process_one()\n",
      "  File \"/home/azizd/miniconda3/envs/kaggle-gpu/lib/python3.10/site-packages/ipykernel/kernelbase.py\", line 534, in process_one\n",
      "    await dispatch(*args)\n",
      "  File \"/home/azizd/miniconda3/envs/kaggle-gpu/lib/python3.10/site-packages/ipykernel/kernelbase.py\", line 437, in dispatch_shell\n",
      "    await result\n",
      "  File \"/home/azizd/miniconda3/envs/kaggle-gpu/lib/python3.10/site-packages/ipykernel/ipkernel.py\", line 362, in execute_request\n",
      "    await super().execute_request(stream, ident, parent)\n",
      "  File \"/home/azizd/miniconda3/envs/kaggle-gpu/lib/python3.10/site-packages/ipykernel/kernelbase.py\", line 778, in execute_request\n",
      "    reply_content = await reply_content\n",
      "  File \"/home/azizd/miniconda3/envs/kaggle-gpu/lib/python3.10/site-packages/ipykernel/ipkernel.py\", line 449, in do_execute\n",
      "    res = shell.run_cell(\n",
      "  File \"/home/azizd/miniconda3/envs/kaggle-gpu/lib/python3.10/site-packages/ipykernel/zmqshell.py\", line 549, in run_cell\n",
      "    return super().run_cell(*args, **kwargs)\n",
      "  File \"/home/azizd/miniconda3/envs/kaggle-gpu/lib/python3.10/site-packages/IPython/core/interactiveshell.py\", line 3075, in run_cell\n",
      "    result = self._run_cell(\n",
      "  File \"/home/azizd/miniconda3/envs/kaggle-gpu/lib/python3.10/site-packages/IPython/core/interactiveshell.py\", line 3130, in _run_cell\n",
      "    result = runner(coro)\n",
      "  File \"/home/azizd/miniconda3/envs/kaggle-gpu/lib/python3.10/site-packages/IPython/core/async_helpers.py\", line 128, in _pseudo_sync_runner\n",
      "    coro.send(None)\n",
      "  File \"/home/azizd/miniconda3/envs/kaggle-gpu/lib/python3.10/site-packages/IPython/core/interactiveshell.py\", line 3334, in run_cell_async\n",
      "    has_raised = await self.run_ast_nodes(code_ast.body, cell_name,\n",
      "  File \"/home/azizd/miniconda3/envs/kaggle-gpu/lib/python3.10/site-packages/IPython/core/interactiveshell.py\", line 3517, in run_ast_nodes\n",
      "    if await self.run_code(code, result, async_=asy):\n",
      "  File \"/home/azizd/miniconda3/envs/kaggle-gpu/lib/python3.10/site-packages/IPython/core/interactiveshell.py\", line 3577, in run_code\n",
      "    exec(code_obj, self.user_global_ns, self.user_ns)\n",
      "  File \"/tmp/ipykernel_12144/112526433.py\", line 4, in <module>\n",
      "    combined_df['features'] = combined_df['SMILES'].progress_apply(compute_molecular_features)\n",
      "  File \"/home/azizd/miniconda3/envs/kaggle-gpu/lib/python3.10/site-packages/tqdm/std.py\", line 917, in inner\n",
      "    return getattr(df, df_function)(wrapper, **kwargs)\n",
      "  File \"/home/azizd/miniconda3/envs/kaggle-gpu/lib/python3.10/site-packages/pandas/core/series.py\", line 4924, in apply\n",
      "    ).apply()\n",
      "  File \"/home/azizd/miniconda3/envs/kaggle-gpu/lib/python3.10/site-packages/pandas/core/apply.py\", line 1427, in apply\n",
      "    return self.apply_standard()\n",
      "  File \"/home/azizd/miniconda3/envs/kaggle-gpu/lib/python3.10/site-packages/pandas/core/apply.py\", line 1507, in apply_standard\n",
      "    mapped = obj._map_values(\n",
      "  File \"/home/azizd/miniconda3/envs/kaggle-gpu/lib/python3.10/site-packages/pandas/core/base.py\", line 921, in _map_values\n",
      "    return algorithms.map_array(arr, mapper, na_action=na_action, convert=convert)\n",
      "  File \"/home/azizd/miniconda3/envs/kaggle-gpu/lib/python3.10/site-packages/pandas/core/algorithms.py\", line 1743, in map_array\n",
      "    return lib.map_infer(values, mapper, convert=convert)\n",
      "  File \"/home/azizd/miniconda3/envs/kaggle-gpu/lib/python3.10/site-packages/tqdm/std.py\", line 912, in wrapper\n",
      "    return func(*args, **kwargs)\n",
      "  File \"/tmp/ipykernel_12144/2365649916.py\", line 4, in compute_molecular_features\n",
      "    from rdkit import Chem\n",
      "  File \"/home/azizd/miniconda3/envs/kaggle-gpu/lib/python3.10/site-packages/rdkit/__init__.py\", line 23, in <module>\n",
      "    from rdkit.Chem.Draw import IPythonConsole\n",
      "  File \"/home/azizd/miniconda3/envs/kaggle-gpu/lib/python3.10/site-packages/rdkit/Chem/__init__.py\", line 20, in <module>\n",
      "    from rdkit.Chem import rdchem\n"
     ]
    },
    {
     "ename": "AttributeError",
     "evalue": "_ARRAY_API not found",
     "output_type": "error",
     "traceback": [
      "\u001b[0;31m---------------------------------------------------------------------------\u001b[0m",
      "\u001b[0;31mAttributeError\u001b[0m                            Traceback (most recent call last)",
      "\u001b[0;31mAttributeError\u001b[0m: _ARRAY_API not found"
     ]
    },
    {
     "name": "stderr",
     "output_type": "stream",
     "text": [
      "\n",
      "A module that was compiled using NumPy 1.x cannot be run in\n",
      "NumPy 2.1.3 as it may crash. To support both 1.x and 2.x\n",
      "versions of NumPy, modules must be compiled with NumPy 2.0.\n",
      "Some module may need to rebuild instead e.g. with 'pybind11>=2.12'.\n",
      "\n",
      "If you are a user of the module, the easiest solution will be to\n",
      "downgrade to 'numpy<2' or try to upgrade the affected module.\n",
      "We expect that some modules will need time to support NumPy 2.\n",
      "\n",
      "Traceback (most recent call last):  File \"/home/azizd/miniconda3/envs/kaggle-gpu/lib/python3.10/runpy.py\", line 196, in _run_module_as_main\n",
      "    return _run_code(code, main_globals, None,\n",
      "  File \"/home/azizd/miniconda3/envs/kaggle-gpu/lib/python3.10/runpy.py\", line 86, in _run_code\n",
      "    exec(code, run_globals)\n",
      "  File \"/home/azizd/miniconda3/envs/kaggle-gpu/lib/python3.10/site-packages/ipykernel_launcher.py\", line 18, in <module>\n",
      "    app.launch_new_instance()\n",
      "  File \"/home/azizd/miniconda3/envs/kaggle-gpu/lib/python3.10/site-packages/traitlets/config/application.py\", line 1075, in launch_instance\n",
      "    app.start()\n",
      "  File \"/home/azizd/miniconda3/envs/kaggle-gpu/lib/python3.10/site-packages/ipykernel/kernelapp.py\", line 739, in start\n",
      "    self.io_loop.start()\n",
      "  File \"/home/azizd/miniconda3/envs/kaggle-gpu/lib/python3.10/site-packages/tornado/platform/asyncio.py\", line 211, in start\n",
      "    self.asyncio_loop.run_forever()\n",
      "  File \"/home/azizd/miniconda3/envs/kaggle-gpu/lib/python3.10/asyncio/base_events.py\", line 603, in run_forever\n",
      "    self._run_once()\n",
      "  File \"/home/azizd/miniconda3/envs/kaggle-gpu/lib/python3.10/asyncio/base_events.py\", line 1909, in _run_once\n",
      "    handle._run()\n",
      "  File \"/home/azizd/miniconda3/envs/kaggle-gpu/lib/python3.10/asyncio/events.py\", line 80, in _run\n",
      "    self._context.run(self._callback, *self._args)\n",
      "  File \"/home/azizd/miniconda3/envs/kaggle-gpu/lib/python3.10/site-packages/ipykernel/kernelbase.py\", line 545, in dispatch_queue\n",
      "    await self.process_one()\n",
      "  File \"/home/azizd/miniconda3/envs/kaggle-gpu/lib/python3.10/site-packages/ipykernel/kernelbase.py\", line 534, in process_one\n",
      "    await dispatch(*args)\n",
      "  File \"/home/azizd/miniconda3/envs/kaggle-gpu/lib/python3.10/site-packages/ipykernel/kernelbase.py\", line 437, in dispatch_shell\n",
      "    await result\n",
      "  File \"/home/azizd/miniconda3/envs/kaggle-gpu/lib/python3.10/site-packages/ipykernel/ipkernel.py\", line 362, in execute_request\n",
      "    await super().execute_request(stream, ident, parent)\n",
      "  File \"/home/azizd/miniconda3/envs/kaggle-gpu/lib/python3.10/site-packages/ipykernel/kernelbase.py\", line 778, in execute_request\n",
      "    reply_content = await reply_content\n",
      "  File \"/home/azizd/miniconda3/envs/kaggle-gpu/lib/python3.10/site-packages/ipykernel/ipkernel.py\", line 449, in do_execute\n",
      "    res = shell.run_cell(\n",
      "  File \"/home/azizd/miniconda3/envs/kaggle-gpu/lib/python3.10/site-packages/ipykernel/zmqshell.py\", line 549, in run_cell\n",
      "    return super().run_cell(*args, **kwargs)\n",
      "  File \"/home/azizd/miniconda3/envs/kaggle-gpu/lib/python3.10/site-packages/IPython/core/interactiveshell.py\", line 3075, in run_cell\n",
      "    result = self._run_cell(\n",
      "  File \"/home/azizd/miniconda3/envs/kaggle-gpu/lib/python3.10/site-packages/IPython/core/interactiveshell.py\", line 3130, in _run_cell\n",
      "    result = runner(coro)\n",
      "  File \"/home/azizd/miniconda3/envs/kaggle-gpu/lib/python3.10/site-packages/IPython/core/async_helpers.py\", line 128, in _pseudo_sync_runner\n",
      "    coro.send(None)\n",
      "  File \"/home/azizd/miniconda3/envs/kaggle-gpu/lib/python3.10/site-packages/IPython/core/interactiveshell.py\", line 3334, in run_cell_async\n",
      "    has_raised = await self.run_ast_nodes(code_ast.body, cell_name,\n",
      "  File \"/home/azizd/miniconda3/envs/kaggle-gpu/lib/python3.10/site-packages/IPython/core/interactiveshell.py\", line 3517, in run_ast_nodes\n",
      "    if await self.run_code(code, result, async_=asy):\n",
      "  File \"/home/azizd/miniconda3/envs/kaggle-gpu/lib/python3.10/site-packages/IPython/core/interactiveshell.py\", line 3577, in run_code\n",
      "    exec(code_obj, self.user_global_ns, self.user_ns)\n",
      "  File \"/tmp/ipykernel_12144/112526433.py\", line 4, in <module>\n",
      "    combined_df['features'] = combined_df['SMILES'].progress_apply(compute_molecular_features)\n",
      "  File \"/home/azizd/miniconda3/envs/kaggle-gpu/lib/python3.10/site-packages/tqdm/std.py\", line 917, in inner\n",
      "    return getattr(df, df_function)(wrapper, **kwargs)\n",
      "  File \"/home/azizd/miniconda3/envs/kaggle-gpu/lib/python3.10/site-packages/pandas/core/series.py\", line 4924, in apply\n",
      "    ).apply()\n",
      "  File \"/home/azizd/miniconda3/envs/kaggle-gpu/lib/python3.10/site-packages/pandas/core/apply.py\", line 1427, in apply\n",
      "    return self.apply_standard()\n",
      "  File \"/home/azizd/miniconda3/envs/kaggle-gpu/lib/python3.10/site-packages/pandas/core/apply.py\", line 1507, in apply_standard\n",
      "    mapped = obj._map_values(\n",
      "  File \"/home/azizd/miniconda3/envs/kaggle-gpu/lib/python3.10/site-packages/pandas/core/base.py\", line 921, in _map_values\n",
      "    return algorithms.map_array(arr, mapper, na_action=na_action, convert=convert)\n",
      "  File \"/home/azizd/miniconda3/envs/kaggle-gpu/lib/python3.10/site-packages/pandas/core/algorithms.py\", line 1743, in map_array\n",
      "    return lib.map_infer(values, mapper, convert=convert)\n",
      "  File \"/home/azizd/miniconda3/envs/kaggle-gpu/lib/python3.10/site-packages/tqdm/std.py\", line 912, in wrapper\n",
      "    return func(*args, **kwargs)\n",
      "  File \"/tmp/ipykernel_12144/2365649916.py\", line 4, in compute_molecular_features\n",
      "    from rdkit import Chem\n",
      "  File \"/home/azizd/miniconda3/envs/kaggle-gpu/lib/python3.10/site-packages/rdkit/__init__.py\", line 23, in <module>\n",
      "    from rdkit.Chem.Draw import IPythonConsole\n",
      "  File \"/home/azizd/miniconda3/envs/kaggle-gpu/lib/python3.10/site-packages/rdkit/Chem/__init__.py\", line 24, in <module>\n",
      "    from rdkit.Chem.rdmolops import *\n"
     ]
    },
    {
     "ename": "AttributeError",
     "evalue": "_ARRAY_API not found",
     "output_type": "error",
     "traceback": [
      "\u001b[0;31m---------------------------------------------------------------------------\u001b[0m",
      "\u001b[0;31mAttributeError\u001b[0m                            Traceback (most recent call last)",
      "\u001b[0;31mAttributeError\u001b[0m: _ARRAY_API not found"
     ]
    },
    {
     "name": "stderr",
     "output_type": "stream",
     "text": [
      "\n",
      "A module that was compiled using NumPy 1.x cannot be run in\n",
      "NumPy 2.1.3 as it may crash. To support both 1.x and 2.x\n",
      "versions of NumPy, modules must be compiled with NumPy 2.0.\n",
      "Some module may need to rebuild instead e.g. with 'pybind11>=2.12'.\n",
      "\n",
      "If you are a user of the module, the easiest solution will be to\n",
      "downgrade to 'numpy<2' or try to upgrade the affected module.\n",
      "We expect that some modules will need time to support NumPy 2.\n",
      "\n",
      "Traceback (most recent call last):  File \"/home/azizd/miniconda3/envs/kaggle-gpu/lib/python3.10/runpy.py\", line 196, in _run_module_as_main\n",
      "    return _run_code(code, main_globals, None,\n",
      "  File \"/home/azizd/miniconda3/envs/kaggle-gpu/lib/python3.10/runpy.py\", line 86, in _run_code\n",
      "    exec(code, run_globals)\n",
      "  File \"/home/azizd/miniconda3/envs/kaggle-gpu/lib/python3.10/site-packages/ipykernel_launcher.py\", line 18, in <module>\n",
      "    app.launch_new_instance()\n",
      "  File \"/home/azizd/miniconda3/envs/kaggle-gpu/lib/python3.10/site-packages/traitlets/config/application.py\", line 1075, in launch_instance\n",
      "    app.start()\n",
      "  File \"/home/azizd/miniconda3/envs/kaggle-gpu/lib/python3.10/site-packages/ipykernel/kernelapp.py\", line 739, in start\n",
      "    self.io_loop.start()\n",
      "  File \"/home/azizd/miniconda3/envs/kaggle-gpu/lib/python3.10/site-packages/tornado/platform/asyncio.py\", line 211, in start\n",
      "    self.asyncio_loop.run_forever()\n",
      "  File \"/home/azizd/miniconda3/envs/kaggle-gpu/lib/python3.10/asyncio/base_events.py\", line 603, in run_forever\n",
      "    self._run_once()\n",
      "  File \"/home/azizd/miniconda3/envs/kaggle-gpu/lib/python3.10/asyncio/base_events.py\", line 1909, in _run_once\n",
      "    handle._run()\n",
      "  File \"/home/azizd/miniconda3/envs/kaggle-gpu/lib/python3.10/asyncio/events.py\", line 80, in _run\n",
      "    self._context.run(self._callback, *self._args)\n",
      "  File \"/home/azizd/miniconda3/envs/kaggle-gpu/lib/python3.10/site-packages/ipykernel/kernelbase.py\", line 545, in dispatch_queue\n",
      "    await self.process_one()\n",
      "  File \"/home/azizd/miniconda3/envs/kaggle-gpu/lib/python3.10/site-packages/ipykernel/kernelbase.py\", line 534, in process_one\n",
      "    await dispatch(*args)\n",
      "  File \"/home/azizd/miniconda3/envs/kaggle-gpu/lib/python3.10/site-packages/ipykernel/kernelbase.py\", line 437, in dispatch_shell\n",
      "    await result\n",
      "  File \"/home/azizd/miniconda3/envs/kaggle-gpu/lib/python3.10/site-packages/ipykernel/ipkernel.py\", line 362, in execute_request\n",
      "    await super().execute_request(stream, ident, parent)\n",
      "  File \"/home/azizd/miniconda3/envs/kaggle-gpu/lib/python3.10/site-packages/ipykernel/kernelbase.py\", line 778, in execute_request\n",
      "    reply_content = await reply_content\n",
      "  File \"/home/azizd/miniconda3/envs/kaggle-gpu/lib/python3.10/site-packages/ipykernel/ipkernel.py\", line 449, in do_execute\n",
      "    res = shell.run_cell(\n",
      "  File \"/home/azizd/miniconda3/envs/kaggle-gpu/lib/python3.10/site-packages/ipykernel/zmqshell.py\", line 549, in run_cell\n",
      "    return super().run_cell(*args, **kwargs)\n",
      "  File \"/home/azizd/miniconda3/envs/kaggle-gpu/lib/python3.10/site-packages/IPython/core/interactiveshell.py\", line 3075, in run_cell\n",
      "    result = self._run_cell(\n",
      "  File \"/home/azizd/miniconda3/envs/kaggle-gpu/lib/python3.10/site-packages/IPython/core/interactiveshell.py\", line 3130, in _run_cell\n",
      "    result = runner(coro)\n",
      "  File \"/home/azizd/miniconda3/envs/kaggle-gpu/lib/python3.10/site-packages/IPython/core/async_helpers.py\", line 128, in _pseudo_sync_runner\n",
      "    coro.send(None)\n",
      "  File \"/home/azizd/miniconda3/envs/kaggle-gpu/lib/python3.10/site-packages/IPython/core/interactiveshell.py\", line 3334, in run_cell_async\n",
      "    has_raised = await self.run_ast_nodes(code_ast.body, cell_name,\n",
      "  File \"/home/azizd/miniconda3/envs/kaggle-gpu/lib/python3.10/site-packages/IPython/core/interactiveshell.py\", line 3517, in run_ast_nodes\n",
      "    if await self.run_code(code, result, async_=asy):\n",
      "  File \"/home/azizd/miniconda3/envs/kaggle-gpu/lib/python3.10/site-packages/IPython/core/interactiveshell.py\", line 3577, in run_code\n",
      "    exec(code_obj, self.user_global_ns, self.user_ns)\n",
      "  File \"/tmp/ipykernel_12144/112526433.py\", line 4, in <module>\n",
      "    combined_df['features'] = combined_df['SMILES'].progress_apply(compute_molecular_features)\n",
      "  File \"/home/azizd/miniconda3/envs/kaggle-gpu/lib/python3.10/site-packages/tqdm/std.py\", line 917, in inner\n",
      "    return getattr(df, df_function)(wrapper, **kwargs)\n",
      "  File \"/home/azizd/miniconda3/envs/kaggle-gpu/lib/python3.10/site-packages/pandas/core/series.py\", line 4924, in apply\n",
      "    ).apply()\n",
      "  File \"/home/azizd/miniconda3/envs/kaggle-gpu/lib/python3.10/site-packages/pandas/core/apply.py\", line 1427, in apply\n",
      "    return self.apply_standard()\n",
      "  File \"/home/azizd/miniconda3/envs/kaggle-gpu/lib/python3.10/site-packages/pandas/core/apply.py\", line 1507, in apply_standard\n",
      "    mapped = obj._map_values(\n",
      "  File \"/home/azizd/miniconda3/envs/kaggle-gpu/lib/python3.10/site-packages/pandas/core/base.py\", line 921, in _map_values\n",
      "    return algorithms.map_array(arr, mapper, na_action=na_action, convert=convert)\n",
      "  File \"/home/azizd/miniconda3/envs/kaggle-gpu/lib/python3.10/site-packages/pandas/core/algorithms.py\", line 1743, in map_array\n",
      "    return lib.map_infer(values, mapper, convert=convert)\n",
      "  File \"/home/azizd/miniconda3/envs/kaggle-gpu/lib/python3.10/site-packages/tqdm/std.py\", line 912, in wrapper\n",
      "    return func(*args, **kwargs)\n",
      "  File \"/tmp/ipykernel_12144/2365649916.py\", line 4, in compute_molecular_features\n",
      "    from rdkit import Chem\n",
      "  File \"/home/azizd/miniconda3/envs/kaggle-gpu/lib/python3.10/site-packages/rdkit/__init__.py\", line 23, in <module>\n",
      "    from rdkit.Chem.Draw import IPythonConsole\n",
      "  File \"/home/azizd/miniconda3/envs/kaggle-gpu/lib/python3.10/site-packages/rdkit/Chem/Draw/__init__.py\", line 20, in <module>\n",
      "    from rdkit.Chem import rdDepictor\n"
     ]
    },
    {
     "ename": "AttributeError",
     "evalue": "_ARRAY_API not found",
     "output_type": "error",
     "traceback": [
      "\u001b[0;31m---------------------------------------------------------------------------\u001b[0m",
      "\u001b[0;31mAttributeError\u001b[0m                            Traceback (most recent call last)",
      "\u001b[0;31mAttributeError\u001b[0m: _ARRAY_API not found"
     ]
    },
    {
     "name": "stderr",
     "output_type": "stream",
     "text": [
      "\n",
      "A module that was compiled using NumPy 1.x cannot be run in\n",
      "NumPy 2.1.3 as it may crash. To support both 1.x and 2.x\n",
      "versions of NumPy, modules must be compiled with NumPy 2.0.\n",
      "Some module may need to rebuild instead e.g. with 'pybind11>=2.12'.\n",
      "\n",
      "If you are a user of the module, the easiest solution will be to\n",
      "downgrade to 'numpy<2' or try to upgrade the affected module.\n",
      "We expect that some modules will need time to support NumPy 2.\n",
      "\n",
      "Traceback (most recent call last):  File \"/home/azizd/miniconda3/envs/kaggle-gpu/lib/python3.10/runpy.py\", line 196, in _run_module_as_main\n",
      "    return _run_code(code, main_globals, None,\n",
      "  File \"/home/azizd/miniconda3/envs/kaggle-gpu/lib/python3.10/runpy.py\", line 86, in _run_code\n",
      "    exec(code, run_globals)\n",
      "  File \"/home/azizd/miniconda3/envs/kaggle-gpu/lib/python3.10/site-packages/ipykernel_launcher.py\", line 18, in <module>\n",
      "    app.launch_new_instance()\n",
      "  File \"/home/azizd/miniconda3/envs/kaggle-gpu/lib/python3.10/site-packages/traitlets/config/application.py\", line 1075, in launch_instance\n",
      "    app.start()\n",
      "  File \"/home/azizd/miniconda3/envs/kaggle-gpu/lib/python3.10/site-packages/ipykernel/kernelapp.py\", line 739, in start\n",
      "    self.io_loop.start()\n",
      "  File \"/home/azizd/miniconda3/envs/kaggle-gpu/lib/python3.10/site-packages/tornado/platform/asyncio.py\", line 211, in start\n",
      "    self.asyncio_loop.run_forever()\n",
      "  File \"/home/azizd/miniconda3/envs/kaggle-gpu/lib/python3.10/asyncio/base_events.py\", line 603, in run_forever\n",
      "    self._run_once()\n",
      "  File \"/home/azizd/miniconda3/envs/kaggle-gpu/lib/python3.10/asyncio/base_events.py\", line 1909, in _run_once\n",
      "    handle._run()\n",
      "  File \"/home/azizd/miniconda3/envs/kaggle-gpu/lib/python3.10/asyncio/events.py\", line 80, in _run\n",
      "    self._context.run(self._callback, *self._args)\n",
      "  File \"/home/azizd/miniconda3/envs/kaggle-gpu/lib/python3.10/site-packages/ipykernel/kernelbase.py\", line 545, in dispatch_queue\n",
      "    await self.process_one()\n",
      "  File \"/home/azizd/miniconda3/envs/kaggle-gpu/lib/python3.10/site-packages/ipykernel/kernelbase.py\", line 534, in process_one\n",
      "    await dispatch(*args)\n",
      "  File \"/home/azizd/miniconda3/envs/kaggle-gpu/lib/python3.10/site-packages/ipykernel/kernelbase.py\", line 437, in dispatch_shell\n",
      "    await result\n",
      "  File \"/home/azizd/miniconda3/envs/kaggle-gpu/lib/python3.10/site-packages/ipykernel/ipkernel.py\", line 362, in execute_request\n",
      "    await super().execute_request(stream, ident, parent)\n",
      "  File \"/home/azizd/miniconda3/envs/kaggle-gpu/lib/python3.10/site-packages/ipykernel/kernelbase.py\", line 778, in execute_request\n",
      "    reply_content = await reply_content\n",
      "  File \"/home/azizd/miniconda3/envs/kaggle-gpu/lib/python3.10/site-packages/ipykernel/ipkernel.py\", line 449, in do_execute\n",
      "    res = shell.run_cell(\n",
      "  File \"/home/azizd/miniconda3/envs/kaggle-gpu/lib/python3.10/site-packages/ipykernel/zmqshell.py\", line 549, in run_cell\n",
      "    return super().run_cell(*args, **kwargs)\n",
      "  File \"/home/azizd/miniconda3/envs/kaggle-gpu/lib/python3.10/site-packages/IPython/core/interactiveshell.py\", line 3075, in run_cell\n",
      "    result = self._run_cell(\n",
      "  File \"/home/azizd/miniconda3/envs/kaggle-gpu/lib/python3.10/site-packages/IPython/core/interactiveshell.py\", line 3130, in _run_cell\n",
      "    result = runner(coro)\n",
      "  File \"/home/azizd/miniconda3/envs/kaggle-gpu/lib/python3.10/site-packages/IPython/core/async_helpers.py\", line 128, in _pseudo_sync_runner\n",
      "    coro.send(None)\n",
      "  File \"/home/azizd/miniconda3/envs/kaggle-gpu/lib/python3.10/site-packages/IPython/core/interactiveshell.py\", line 3334, in run_cell_async\n",
      "    has_raised = await self.run_ast_nodes(code_ast.body, cell_name,\n",
      "  File \"/home/azizd/miniconda3/envs/kaggle-gpu/lib/python3.10/site-packages/IPython/core/interactiveshell.py\", line 3517, in run_ast_nodes\n",
      "    if await self.run_code(code, result, async_=asy):\n",
      "  File \"/home/azizd/miniconda3/envs/kaggle-gpu/lib/python3.10/site-packages/IPython/core/interactiveshell.py\", line 3577, in run_code\n",
      "    exec(code_obj, self.user_global_ns, self.user_ns)\n",
      "  File \"/tmp/ipykernel_12144/112526433.py\", line 4, in <module>\n",
      "    combined_df['features'] = combined_df['SMILES'].progress_apply(compute_molecular_features)\n",
      "  File \"/home/azizd/miniconda3/envs/kaggle-gpu/lib/python3.10/site-packages/tqdm/std.py\", line 917, in inner\n",
      "    return getattr(df, df_function)(wrapper, **kwargs)\n",
      "  File \"/home/azizd/miniconda3/envs/kaggle-gpu/lib/python3.10/site-packages/pandas/core/series.py\", line 4924, in apply\n",
      "    ).apply()\n",
      "  File \"/home/azizd/miniconda3/envs/kaggle-gpu/lib/python3.10/site-packages/pandas/core/apply.py\", line 1427, in apply\n",
      "    return self.apply_standard()\n",
      "  File \"/home/azizd/miniconda3/envs/kaggle-gpu/lib/python3.10/site-packages/pandas/core/apply.py\", line 1507, in apply_standard\n",
      "    mapped = obj._map_values(\n",
      "  File \"/home/azizd/miniconda3/envs/kaggle-gpu/lib/python3.10/site-packages/pandas/core/base.py\", line 921, in _map_values\n",
      "    return algorithms.map_array(arr, mapper, na_action=na_action, convert=convert)\n",
      "  File \"/home/azizd/miniconda3/envs/kaggle-gpu/lib/python3.10/site-packages/pandas/core/algorithms.py\", line 1743, in map_array\n",
      "    return lib.map_infer(values, mapper, convert=convert)\n",
      "  File \"/home/azizd/miniconda3/envs/kaggle-gpu/lib/python3.10/site-packages/tqdm/std.py\", line 912, in wrapper\n",
      "    return func(*args, **kwargs)\n",
      "  File \"/tmp/ipykernel_12144/2365649916.py\", line 4, in compute_molecular_features\n",
      "    from rdkit import Chem\n",
      "  File \"/home/azizd/miniconda3/envs/kaggle-gpu/lib/python3.10/site-packages/rdkit/__init__.py\", line 23, in <module>\n",
      "    from rdkit.Chem.Draw import IPythonConsole\n",
      "  File \"/home/azizd/miniconda3/envs/kaggle-gpu/lib/python3.10/site-packages/rdkit/Chem/Draw/__init__.py\", line 21, in <module>\n",
      "    from rdkit.Chem.Draw import rdMolDraw2D\n"
     ]
    },
    {
     "ename": "AttributeError",
     "evalue": "_ARRAY_API not found",
     "output_type": "error",
     "traceback": [
      "\u001b[0;31m---------------------------------------------------------------------------\u001b[0m",
      "\u001b[0;31mAttributeError\u001b[0m                            Traceback (most recent call last)",
      "\u001b[0;31mAttributeError\u001b[0m: _ARRAY_API not found"
     ]
    },
    {
     "name": "stderr",
     "output_type": "stream",
     "text": [
      "\n",
      "A module that was compiled using NumPy 1.x cannot be run in\n",
      "NumPy 2.1.3 as it may crash. To support both 1.x and 2.x\n",
      "versions of NumPy, modules must be compiled with NumPy 2.0.\n",
      "Some module may need to rebuild instead e.g. with 'pybind11>=2.12'.\n",
      "\n",
      "If you are a user of the module, the easiest solution will be to\n",
      "downgrade to 'numpy<2' or try to upgrade the affected module.\n",
      "We expect that some modules will need time to support NumPy 2.\n",
      "\n",
      "Traceback (most recent call last):  File \"/home/azizd/miniconda3/envs/kaggle-gpu/lib/python3.10/runpy.py\", line 196, in _run_module_as_main\n",
      "    return _run_code(code, main_globals, None,\n",
      "  File \"/home/azizd/miniconda3/envs/kaggle-gpu/lib/python3.10/runpy.py\", line 86, in _run_code\n",
      "    exec(code, run_globals)\n",
      "  File \"/home/azizd/miniconda3/envs/kaggle-gpu/lib/python3.10/site-packages/ipykernel_launcher.py\", line 18, in <module>\n",
      "    app.launch_new_instance()\n",
      "  File \"/home/azizd/miniconda3/envs/kaggle-gpu/lib/python3.10/site-packages/traitlets/config/application.py\", line 1075, in launch_instance\n",
      "    app.start()\n",
      "  File \"/home/azizd/miniconda3/envs/kaggle-gpu/lib/python3.10/site-packages/ipykernel/kernelapp.py\", line 739, in start\n",
      "    self.io_loop.start()\n",
      "  File \"/home/azizd/miniconda3/envs/kaggle-gpu/lib/python3.10/site-packages/tornado/platform/asyncio.py\", line 211, in start\n",
      "    self.asyncio_loop.run_forever()\n",
      "  File \"/home/azizd/miniconda3/envs/kaggle-gpu/lib/python3.10/asyncio/base_events.py\", line 603, in run_forever\n",
      "    self._run_once()\n",
      "  File \"/home/azizd/miniconda3/envs/kaggle-gpu/lib/python3.10/asyncio/base_events.py\", line 1909, in _run_once\n",
      "    handle._run()\n",
      "  File \"/home/azizd/miniconda3/envs/kaggle-gpu/lib/python3.10/asyncio/events.py\", line 80, in _run\n",
      "    self._context.run(self._callback, *self._args)\n",
      "  File \"/home/azizd/miniconda3/envs/kaggle-gpu/lib/python3.10/site-packages/ipykernel/kernelbase.py\", line 545, in dispatch_queue\n",
      "    await self.process_one()\n",
      "  File \"/home/azizd/miniconda3/envs/kaggle-gpu/lib/python3.10/site-packages/ipykernel/kernelbase.py\", line 534, in process_one\n",
      "    await dispatch(*args)\n",
      "  File \"/home/azizd/miniconda3/envs/kaggle-gpu/lib/python3.10/site-packages/ipykernel/kernelbase.py\", line 437, in dispatch_shell\n",
      "    await result\n",
      "  File \"/home/azizd/miniconda3/envs/kaggle-gpu/lib/python3.10/site-packages/ipykernel/ipkernel.py\", line 362, in execute_request\n",
      "    await super().execute_request(stream, ident, parent)\n",
      "  File \"/home/azizd/miniconda3/envs/kaggle-gpu/lib/python3.10/site-packages/ipykernel/kernelbase.py\", line 778, in execute_request\n",
      "    reply_content = await reply_content\n",
      "  File \"/home/azizd/miniconda3/envs/kaggle-gpu/lib/python3.10/site-packages/ipykernel/ipkernel.py\", line 449, in do_execute\n",
      "    res = shell.run_cell(\n",
      "  File \"/home/azizd/miniconda3/envs/kaggle-gpu/lib/python3.10/site-packages/ipykernel/zmqshell.py\", line 549, in run_cell\n",
      "    return super().run_cell(*args, **kwargs)\n",
      "  File \"/home/azizd/miniconda3/envs/kaggle-gpu/lib/python3.10/site-packages/IPython/core/interactiveshell.py\", line 3075, in run_cell\n",
      "    result = self._run_cell(\n",
      "  File \"/home/azizd/miniconda3/envs/kaggle-gpu/lib/python3.10/site-packages/IPython/core/interactiveshell.py\", line 3130, in _run_cell\n",
      "    result = runner(coro)\n",
      "  File \"/home/azizd/miniconda3/envs/kaggle-gpu/lib/python3.10/site-packages/IPython/core/async_helpers.py\", line 128, in _pseudo_sync_runner\n",
      "    coro.send(None)\n",
      "  File \"/home/azizd/miniconda3/envs/kaggle-gpu/lib/python3.10/site-packages/IPython/core/interactiveshell.py\", line 3334, in run_cell_async\n",
      "    has_raised = await self.run_ast_nodes(code_ast.body, cell_name,\n",
      "  File \"/home/azizd/miniconda3/envs/kaggle-gpu/lib/python3.10/site-packages/IPython/core/interactiveshell.py\", line 3517, in run_ast_nodes\n",
      "    if await self.run_code(code, result, async_=asy):\n",
      "  File \"/home/azizd/miniconda3/envs/kaggle-gpu/lib/python3.10/site-packages/IPython/core/interactiveshell.py\", line 3577, in run_code\n",
      "    exec(code_obj, self.user_global_ns, self.user_ns)\n",
      "  File \"/tmp/ipykernel_12144/112526433.py\", line 4, in <module>\n",
      "    combined_df['features'] = combined_df['SMILES'].progress_apply(compute_molecular_features)\n",
      "  File \"/home/azizd/miniconda3/envs/kaggle-gpu/lib/python3.10/site-packages/tqdm/std.py\", line 917, in inner\n",
      "    return getattr(df, df_function)(wrapper, **kwargs)\n",
      "  File \"/home/azizd/miniconda3/envs/kaggle-gpu/lib/python3.10/site-packages/pandas/core/series.py\", line 4924, in apply\n",
      "    ).apply()\n",
      "  File \"/home/azizd/miniconda3/envs/kaggle-gpu/lib/python3.10/site-packages/pandas/core/apply.py\", line 1427, in apply\n",
      "    return self.apply_standard()\n",
      "  File \"/home/azizd/miniconda3/envs/kaggle-gpu/lib/python3.10/site-packages/pandas/core/apply.py\", line 1507, in apply_standard\n",
      "    mapped = obj._map_values(\n",
      "  File \"/home/azizd/miniconda3/envs/kaggle-gpu/lib/python3.10/site-packages/pandas/core/base.py\", line 921, in _map_values\n",
      "    return algorithms.map_array(arr, mapper, na_action=na_action, convert=convert)\n",
      "  File \"/home/azizd/miniconda3/envs/kaggle-gpu/lib/python3.10/site-packages/pandas/core/algorithms.py\", line 1743, in map_array\n",
      "    return lib.map_infer(values, mapper, convert=convert)\n",
      "  File \"/home/azizd/miniconda3/envs/kaggle-gpu/lib/python3.10/site-packages/tqdm/std.py\", line 912, in wrapper\n",
      "    return func(*args, **kwargs)\n",
      "  File \"/tmp/ipykernel_12144/2365649916.py\", line 5, in compute_molecular_features\n",
      "    from rdkit.Chem import Descriptors\n",
      "  File \"/home/azizd/miniconda3/envs/kaggle-gpu/lib/python3.10/site-packages/rdkit/Chem/Descriptors.py\", line 234, in <module>\n",
      "    _setupDescriptors(locals())\n",
      "  File \"/home/azizd/miniconda3/envs/kaggle-gpu/lib/python3.10/site-packages/rdkit/Chem/Descriptors.py\", line 31, in _setupDescriptors\n",
      "    from rdkit.Chem import GraphDescriptors, MolSurf, Lipinski, Fragments, Crippen, Descriptors3D\n",
      "  File \"/home/azizd/miniconda3/envs/kaggle-gpu/lib/python3.10/site-packages/rdkit/Chem/GraphDescriptors.py\", line 23, in <module>\n",
      "    from rdkit.ML.InfoTheory import entropy\n",
      "  File \"/home/azizd/miniconda3/envs/kaggle-gpu/lib/python3.10/site-packages/rdkit/ML/InfoTheory/__init__.py\", line 4, in <module>\n",
      "    from rdkit.ML.InfoTheory.rdInfoTheory import *\n"
     ]
    },
    {
     "ename": "AttributeError",
     "evalue": "_ARRAY_API not found",
     "output_type": "error",
     "traceback": [
      "\u001b[0;31m---------------------------------------------------------------------------\u001b[0m",
      "\u001b[0;31mAttributeError\u001b[0m                            Traceback (most recent call last)",
      "\u001b[0;31mAttributeError\u001b[0m: _ARRAY_API not found"
     ]
    },
    {
     "data": {
      "text/html": [
       "<div>\n",
       "<style scoped>\n",
       "    .dataframe tbody tr th:only-of-type {\n",
       "        vertical-align: middle;\n",
       "    }\n",
       "\n",
       "    .dataframe tbody tr th {\n",
       "        vertical-align: top;\n",
       "    }\n",
       "\n",
       "    .dataframe thead th {\n",
       "        text-align: right;\n",
       "    }\n",
       "</style>\n",
       "<table border=\"1\" class=\"dataframe\">\n",
       "  <thead>\n",
       "    <tr style=\"text-align: right;\">\n",
       "      <th></th>\n",
       "      <th>id</th>\n",
       "      <th>SMILES</th>\n",
       "      <th>Tg</th>\n",
       "      <th>FFV</th>\n",
       "      <th>Tc</th>\n",
       "      <th>Density</th>\n",
       "      <th>Rg</th>\n",
       "      <th>features</th>\n",
       "    </tr>\n",
       "  </thead>\n",
       "  <tbody>\n",
       "    <tr>\n",
       "      <th>0</th>\n",
       "      <td>87817.0</td>\n",
       "      <td>*CC(*)c1ccccc1C(=O)OCCCCCC</td>\n",
       "      <td>NaN</td>\n",
       "      <td>0.374645</td>\n",
       "      <td>0.205667</td>\n",
       "      <td>NaN</td>\n",
       "      <td>NaN</td>\n",
       "      <td>[232.3229999999999, 17.0, 2.0, 0.0, 26.3, 3.98...</td>\n",
       "    </tr>\n",
       "    <tr>\n",
       "      <th>1</th>\n",
       "      <td>106919.0</td>\n",
       "      <td>*Nc1ccc([C@H](CCC)c2ccc(C3(c4ccc([C@@H](CCC)c5...</td>\n",
       "      <td>NaN</td>\n",
       "      <td>0.370410</td>\n",
       "      <td>NaN</td>\n",
       "      <td>NaN</td>\n",
       "      <td>NaN</td>\n",
       "      <td>[598.9190000000003, 45.0, 2.0, 2.0, 24.06, 12....</td>\n",
       "    </tr>\n",
       "    <tr>\n",
       "      <th>2</th>\n",
       "      <td>388772.0</td>\n",
       "      <td>*Oc1ccc(S(=O)(=O)c2ccc(Oc3ccc(C4(c5ccc(Oc6ccc(...</td>\n",
       "      <td>NaN</td>\n",
       "      <td>0.378860</td>\n",
       "      <td>NaN</td>\n",
       "      <td>NaN</td>\n",
       "      <td>NaN</td>\n",
       "      <td>[1003.2069999999997, 73.0, 9.0, 0.0, 122.27000...</td>\n",
       "    </tr>\n",
       "    <tr>\n",
       "      <th>3</th>\n",
       "      <td>519416.0</td>\n",
       "      <td>*Nc1ccc(-c2c(-c3ccc(C)cc3)c(-c3ccc(C)cc3)c(N*)...</td>\n",
       "      <td>NaN</td>\n",
       "      <td>0.387324</td>\n",
       "      <td>NaN</td>\n",
       "      <td>NaN</td>\n",
       "      <td>NaN</td>\n",
       "      <td>[542.7260000000002, 42.0, 2.0, 2.0, 24.06, 11....</td>\n",
       "    </tr>\n",
       "    <tr>\n",
       "      <th>4</th>\n",
       "      <td>539187.0</td>\n",
       "      <td>*Oc1ccc(OC(=O)c2cc(OCCCCCCCCCOCC3CCCN3c3ccc([N...</td>\n",
       "      <td>NaN</td>\n",
       "      <td>0.355470</td>\n",
       "      <td>NaN</td>\n",
       "      <td>NaN</td>\n",
       "      <td>NaN</td>\n",
       "      <td>[965.1539999999994, 70.0, 14.0, 0.0, 182.28, 1...</td>\n",
       "    </tr>\n",
       "  </tbody>\n",
       "</table>\n",
       "</div>"
      ],
      "text/plain": [
       "         id                                             SMILES  Tg       FFV  \\\n",
       "0   87817.0                         *CC(*)c1ccccc1C(=O)OCCCCCC NaN  0.374645   \n",
       "1  106919.0  *Nc1ccc([C@H](CCC)c2ccc(C3(c4ccc([C@@H](CCC)c5... NaN  0.370410   \n",
       "2  388772.0  *Oc1ccc(S(=O)(=O)c2ccc(Oc3ccc(C4(c5ccc(Oc6ccc(... NaN  0.378860   \n",
       "3  519416.0  *Nc1ccc(-c2c(-c3ccc(C)cc3)c(-c3ccc(C)cc3)c(N*)... NaN  0.387324   \n",
       "4  539187.0  *Oc1ccc(OC(=O)c2cc(OCCCCCCCCCOCC3CCCN3c3ccc([N... NaN  0.355470   \n",
       "\n",
       "         Tc  Density  Rg                                           features  \n",
       "0  0.205667      NaN NaN  [232.3229999999999, 17.0, 2.0, 0.0, 26.3, 3.98...  \n",
       "1       NaN      NaN NaN  [598.9190000000003, 45.0, 2.0, 2.0, 24.06, 12....  \n",
       "2       NaN      NaN NaN  [1003.2069999999997, 73.0, 9.0, 0.0, 122.27000...  \n",
       "3       NaN      NaN NaN  [542.7260000000002, 42.0, 2.0, 2.0, 24.06, 11....  \n",
       "4       NaN      NaN NaN  [965.1539999999994, 70.0, 14.0, 0.0, 182.28, 1...  "
      ]
     },
     "execution_count": 15,
     "metadata": {},
     "output_type": "execute_result"
    }
   ],
   "source": [
    "# Calculate molecular features\n",
    "print(\"Computing molecular features...\")\n",
    "tqdm.pandas()\n",
    "combined_df['features'] = combined_df['SMILES'].progress_apply(compute_molecular_features)\n",
    "\n",
    "combined_df.head()"
   ]
  },
  {
   "cell_type": "code",
   "execution_count": 46,
   "id": "fe235e90-0973-4eb9-8564-38a4588e3220",
   "metadata": {},
   "outputs": [],
   "source": [
    "# Split data\n",
    "train_val, test_df = train_test_split(combined_df, test_size=0.15, random_state=42)\n",
    "train_df, val_df = train_test_split(train_val, test_size=0.15, random_state=42)\n",
    "\n",
    "# Build vocabulary from all SMILES\n",
    "all_smiles = \"\".join(combined_df['SMILES'])\n",
    "vocab = sorted(set(all_smiles))\n",
    "char_to_idx = {char: idx+1 for idx, char in enumerate(vocab)}\n",
    "char_to_idx['<unk>'] = len(char_to_idx) + 1\n",
    "max_length = max(len(s) for s in combined_df['SMILES'])\n",
    "\n",
    "# Calculate normalization parameters from TRAINING SET\n",
    "property_means = train_df[target_columns].mean(skipna=True)\n",
    "property_stds = train_df[target_columns].std(skipna=True)\n",
    "\n",
    "# Handle zero std\n",
    "property_stds = property_stds.replace(0, 1.0)"
   ]
  },
  {
   "cell_type": "markdown",
   "id": "b05db841-8bef-4119-8413-962e38d63788",
   "metadata": {},
   "source": [
    "# MODEL"
   ]
  },
  {
   "cell_type": "code",
   "execution_count": 47,
   "id": "bb5c9b32-c945-405d-8449-ffd09a7bf980",
   "metadata": {},
   "outputs": [],
   "source": [
    "class PolymerDataset(Dataset):\n",
    "    def __init__(self, df):\n",
    "        self.df = df.reset_index(drop=True)\n",
    "        \n",
    "    def __len__(self):\n",
    "        return len(self.df)\n",
    "    \n",
    "    def __getitem__(self, idx):\n",
    "        row = self.df.iloc[idx]\n",
    "        smile = row['SMILES']\n",
    "        \n",
    "        # Encode SMILES sequence\n",
    "        encoded = [char_to_idx.get(c, char_to_idx['<unk>']) for c in smile]\n",
    "        padded = np.zeros(max_length, dtype=np.int64)\n",
    "        padded[:len(encoded)] = encoded\n",
    "        \n",
    "        # Convert target values to float and handle NaNs\n",
    "        target_values = np.zeros(len(target_columns), dtype=np.float32)\n",
    "        mask = np.zeros(len(target_columns), dtype=bool)\n",
    "        \n",
    "        for i, col in enumerate(target_columns):\n",
    "            value = row[col]\n",
    "            # Handle numeric values and convert strings to float\n",
    "            if pd.isna(value):\n",
    "                target_values[i] = 0.0\n",
    "                mask[i] = False\n",
    "            else:\n",
    "                try:\n",
    "                    # Convert to float if it's a string representation\n",
    "                    target_values[i] = float(value)\n",
    "                    mask[i] = True\n",
    "                except (TypeError, ValueError):\n",
    "                    target_values[i] = 0.0\n",
    "                    mask[i] = False\n",
    "        \n",
    "        # Normalize targets using precomputed stats\n",
    "        normalized_targets = (target_values - property_means.values) / property_stds.values\n",
    "        \n",
    "        # Get molecular features\n",
    "        features = row['features']\n",
    "        \n",
    "        return (\n",
    "            torch.tensor(padded, dtype=torch.long),\n",
    "            torch.tensor(features, dtype=torch.float),\n",
    "            torch.tensor(normalized_targets, dtype=torch.float),\n",
    "            torch.tensor(mask, dtype=torch.float)\n",
    "        )"
   ]
  },
  {
   "cell_type": "code",
   "execution_count": 48,
   "id": "52e89347-cec4-4ae8-bad3-425124968cd9",
   "metadata": {},
   "outputs": [],
   "source": [
    "# Create datasets\n",
    "train_data = PolymerDataset(train_df)\n",
    "val_data = PolymerDataset(val_df)\n",
    "test_data = PolymerDataset(test_df)"
   ]
  },
  {
   "cell_type": "code",
   "execution_count": 49,
   "id": "02e5ab27-f5bc-4907-8e00-4b822307a024",
   "metadata": {},
   "outputs": [],
   "source": [
    "class PolymerPredictor(nn.Module):\n",
    "    def __init__(self, vocab_size, feature_dim=10, embed_dim=256, \n",
    "                 lstm_dim=512, output_dim=5, dropout=0.3):\n",
    "        super().__init__()\n",
    "        \n",
    "        # SMILES Embedding Layer\n",
    "        self.embedding = nn.Embedding(len(char_to_idx)+1, embed_dim, padding_idx=0)\n",
    "        \n",
    "        # BiLSTM Layers\n",
    "        self.bilstm = nn.LSTM(\n",
    "            embed_dim,\n",
    "            lstm_dim // 2,\n",
    "            bidirectional=True,\n",
    "            batch_first=True,\n",
    "            num_layers=2\n",
    "        )\n",
    "        \n",
    "        # Attention Mechanism\n",
    "        self.attention = nn.Sequential(\n",
    "            nn.Linear(lstm_dim, 128),\n",
    "            nn.Tanh(),\n",
    "            nn.Linear(128, 1)\n",
    "        )\n",
    "        # Feature Processing\n",
    "        self.feature_fc = nn.Sequential(\n",
    "            nn.Linear(feature_dim, 128),\n",
    "            nn.ReLU(),\n",
    "            nn.Dropout(dropout)\n",
    "        )\n",
    "        # Combined Processing\n",
    "        self.combined_fc = nn.Sequential(\n",
    "            nn.Linear(lstm_dim + 128, 512),\n",
    "            nn.ReLU(),\n",
    "            nn.Dropout(dropout),\n",
    "            nn.Linear(512, 256),\n",
    "            nn.ReLU(),\n",
    "            nn.Linear(256, output_dim)\n",
    "        )\n",
    "            \n",
    "    def forward(self, seq_input, feature_input):\n",
    "        # Process SMILES sequence\n",
    "        embedded = self.embedding(seq_input)\n",
    "        lstm_out, _ = self.bilstm(embedded)\n",
    "        \n",
    "        # Attention mechanism\n",
    "        attn_weights = torch.softmax(self.attention(lstm_out).squeeze(-1), dim=1)\n",
    "        attn_weights = attn_weights.unsqueeze(-1)\n",
    "        context = torch.sum(lstm_out * attn_weights, dim=1)\n",
    "        \n",
    "        # Process molecular features\n",
    "        features = self.feature_fc(feature_input)\n",
    "        \n",
    "        # Combine representations\n",
    "        combined = torch.cat([context, features], dim=1)\n",
    "        \n",
    "        return self.combined_fc(combined)\n"
   ]
  },
  {
   "cell_type": "code",
   "execution_count": 50,
   "id": "0e9ecbac-8b61-4d63-8c7f-f78dd9f21581",
   "metadata": {},
   "outputs": [],
   "source": [
    "class RobustHuberLoss(nn.Module):\n",
    "    def __init__(self, weights=None, l2_lambda=1e-5, huber_delta=1.0):\n",
    "        super().__init__()\n",
    "        self.weights = weights\n",
    "        self.l2_lambda = l2_lambda\n",
    "        self.huber = nn.HuberLoss(reduction='none', delta=huber_delta)\n",
    "        \n",
    "    def forward(self, outputs, targets, mask, model):\n",
    "        # Calculate base Huber loss\n",
    "        huber_loss = self.huber(outputs, targets)\n",
    "        \n",
    "        # Apply property weights if provided\n",
    "        if self.weights is not None:\n",
    "            huber_loss = huber_loss * self.weights.unsqueeze(0)\n",
    "        \n",
    "        # Apply mask to ignore NaN targets\n",
    "        masked_loss = mask * huber_loss\n",
    "        loss = masked_loss.sum() / (mask.sum() + 1e-8)\n",
    "        \n",
    "        # Add L2 regularization\n",
    "        if self.l2_lambda > 0:\n",
    "            l2_reg = torch.tensor(0., device=outputs.device)\n",
    "            for param in model.parameters():\n",
    "                l2_reg += torch.norm(param)\n",
    "            loss += self.l2_lambda * l2_reg\n",
    "        \n",
    "        return loss"
   ]
  },
  {
   "cell_type": "code",
   "execution_count": 51,
   "id": "a4770be0-c538-49c2-bee3-1864e5468c60",
   "metadata": {},
   "outputs": [],
   "source": [
    "device = torch.device('cuda' if torch.cuda.is_available() else 'cpu')\n",
    "\n",
    "# Initialize model\n",
    "vocab_size = len(vocab)\n",
    "model = PolymerPredictor(vocab_size).to(device)\n"
   ]
  },
  {
   "cell_type": "code",
   "execution_count": 52,
   "id": "648cb1b1-5cc2-495f-a07e-9b6b1776f5a7",
   "metadata": {},
   "outputs": [],
   "source": [
    "# Calculate property weights based on data availability\n",
    "train_counts = train_df[target_columns].count()\n",
    "property_weights = torch.tensor([\n",
    "    5.0 / train_counts['Tg'], # higher weight due to Tg being weak ring on previous results\n",
    "    1.0 / train_counts['FFV'],\n",
    "    1.0 / train_counts['Tc'],\n",
    "    1.0 / train_counts['Density'],\n",
    "    1.0 / train_counts['Rg']\n",
    "], device=device)\n",
    "property_weights = property_weights / property_weights.sum()\n",
    "\n",
    "# Initialize loss function and optimizer\n",
    "criterion = RobustHuberLoss(weights=property_weights, l2_lambda=1e-5, huber_delta=1.0)\n",
    "optimizer = optim.AdamW(model.parameters(), lr=0.001, weight_decay=1e-5)\n",
    "scheduler = torch.optim.lr_scheduler.ReduceLROnPlateau(\n",
    "    optimizer, mode='min', factor=0.5, patience=5\n",
    ")\n",
    "\n",
    "# Create data loaders\n",
    "batch_size = 128\n",
    "train_loader = DataLoader(train_data, batch_size=batch_size, shuffle=True)\n",
    "val_loader = DataLoader(val_data, batch_size=batch_size)\n",
    "test_loader = DataLoader(test_data, batch_size=batch_size)"
   ]
  },
  {
   "cell_type": "code",
   "execution_count": 53,
   "id": "c29bec48-4f85-4425-8c58-c23f4b8b6cb6",
   "metadata": {},
   "outputs": [],
   "source": [
    "\n",
    "# Evaluation function\n",
    "def evaluate_model(model, data_loader, criterion, denorm=True):\n",
    "    model.eval()\n",
    "    all_preds = []\n",
    "    all_targets = []\n",
    "    all_masks = []\n",
    "    total_loss = 0.0\n",
    "    \n",
    "    with torch.no_grad():\n",
    "        for seq, features, targets, masks in data_loader:\n",
    "            seq, features, targets, masks = (\n",
    "                seq.to(device), features.to(device), \n",
    "                targets.to(device), masks.to(device)\n",
    "            )\n",
    "            \n",
    "            outputs = model(seq, features)\n",
    "            loss = criterion(outputs, targets, masks, model)\n",
    "            total_loss += loss.item()\n",
    "            \n",
    "            # Store for metrics\n",
    "            all_preds.append(outputs.cpu().numpy())\n",
    "            all_targets.append(targets.cpu().numpy())\n",
    "            all_masks.append(masks.cpu().numpy())\n",
    "    \n",
    "    # Concatenate all batches\n",
    "    all_preds = np.vstack(all_preds)\n",
    "    all_targets = np.vstack(all_targets)\n",
    "    all_masks = np.vstack(all_masks)\n",
    "    \n",
    "    # Denormalize if needed\n",
    "    if denorm:\n",
    "        all_preds = (all_preds * property_stds.values) + property_means.values\n",
    "        all_targets = (all_targets * property_stds.values) + property_means.values\n",
    "    \n",
    "    # Calculate metrics per property\n",
    "    metrics = {}\n",
    "    for i, prop in enumerate(target_columns):\n",
    "        prop_mask = all_masks[:, i].astype(bool)\n",
    "        preds = all_preds[prop_mask, i]\n",
    "        targs = all_targets[prop_mask, i]\n",
    "        \n",
    "        if len(preds) > 0:\n",
    "            metrics[prop] = {\n",
    "                'MAE': mean_absolute_error(targs, preds),\n",
    "                'RMSE': np.sqrt(mean_squared_error(targs, preds)),\n",
    "                'R²': r2_score(targs, preds),\n",
    "                'Samples': len(preds)\n",
    "            }\n",
    "        else:\n",
    "            metrics[prop] = {\n",
    "                'MAE': np.nan,\n",
    "                'RMSE': np.nan,\n",
    "                'R²': np.nan,\n",
    "                'Samples': 0\n",
    "            }\n",
    "    \n",
    "    # Calculate overall metrics\n",
    "    valid_preds = []\n",
    "    valid_targets = []\n",
    "    for i in range(all_preds.shape[0]):\n",
    "        for j in range(all_preds.shape[1]):\n",
    "            if all_masks[i, j]:\n",
    "                valid_preds.append(all_preds[i, j])\n",
    "                valid_targets.append(all_targets[i, j])\n",
    "    \n",
    "    valid_preds = np.array(valid_preds)\n",
    "    valid_targets = np.array(valid_targets)\n",
    "    \n",
    "    if len(valid_preds) > 0:\n",
    "        overall_metrics = {\n",
    "            'MAE': mean_absolute_error(valid_targets, valid_preds),\n",
    "            'RMSE': np.sqrt(mean_squared_error(valid_targets, valid_preds)),\n",
    "            'R²': r2_score(valid_targets, valid_preds),\n",
    "            'Samples': len(valid_preds)\n",
    "        }\n",
    "    else:\n",
    "        overall_metrics = {\n",
    "            'MAE': np.nan,\n",
    "            'RMSE': np.nan,\n",
    "            'R²': np.nan,\n",
    "            'Samples': 0\n",
    "        }\n",
    "    \n",
    "    return {\n",
    "        'loss': total_loss / len(data_loader),\n",
    "        'per_property': metrics,\n",
    "        'overall': overall_metrics\n",
    "    }\n"
   ]
  },
  {
   "cell_type": "code",
   "execution_count": 54,
   "id": "18e32525-329a-4333-82aa-3dfae0f35413",
   "metadata": {},
   "outputs": [
    {
     "name": "stdout",
     "output_type": "stream",
     "text": [
      "\n",
      "Starting model training...\n"
     ]
    },
    {
     "data": {
      "application/vnd.jupyter.widget-view+json": {
       "model_id": "3a1cdf732a314becbb7092be43bef012",
       "version_major": 2,
       "version_minor": 0
      },
      "text/plain": [
       "Epoch 1:   0%|          | 0/59 [00:00<?, ?it/s]"
      ]
     },
     "metadata": {},
     "output_type": "display_data"
    },
    {
     "name": "stdout",
     "output_type": "stream",
     "text": [
      "\n",
      "Epoch 001\n",
      "  Train Loss: 0.0657 | Val Loss: 0.0270\n",
      "  Overall Val MAE: 0.6940, RMSE: 0.9048, R²: 0.0728\n",
      "  ↳ Model improved! Saving checkpoint...\n"
     ]
    },
    {
     "data": {
      "application/vnd.jupyter.widget-view+json": {
       "model_id": "419480cb57b74316b9e55f7f56bc2dfd",
       "version_major": 2,
       "version_minor": 0
      },
      "text/plain": [
       "Epoch 2:   0%|          | 0/59 [00:00<?, ?it/s]"
      ]
     },
     "metadata": {},
     "output_type": "display_data"
    },
    {
     "name": "stdout",
     "output_type": "stream",
     "text": [
      "\n",
      "Epoch 002\n",
      "  Train Loss: 0.0299 | Val Loss: 0.0248\n",
      "  Overall Val MAE: 0.6489, RMSE: 0.8676, R²: 0.1476\n",
      "  ↳ Model improved! Saving checkpoint...\n"
     ]
    },
    {
     "data": {
      "application/vnd.jupyter.widget-view+json": {
       "model_id": "a991f6dd8df64ab285d34c6ad01f2a5b",
       "version_major": 2,
       "version_minor": 0
      },
      "text/plain": [
       "Epoch 3:   0%|          | 0/59 [00:00<?, ?it/s]"
      ]
     },
     "metadata": {},
     "output_type": "display_data"
    },
    {
     "name": "stdout",
     "output_type": "stream",
     "text": [
      "\n",
      "Epoch 003\n",
      "  Train Loss: 0.0265 | Val Loss: 0.0226\n",
      "  Overall Val MAE: 0.6005, RMSE: 0.8118, R²: 0.2536\n",
      "  ↳ Model improved! Saving checkpoint...\n"
     ]
    },
    {
     "data": {
      "application/vnd.jupyter.widget-view+json": {
       "model_id": "fa1ce2b3460e418a91fccf60657ad9d8",
       "version_major": 2,
       "version_minor": 0
      },
      "text/plain": [
       "Epoch 4:   0%|          | 0/59 [00:00<?, ?it/s]"
      ]
     },
     "metadata": {},
     "output_type": "display_data"
    },
    {
     "name": "stdout",
     "output_type": "stream",
     "text": [
      "\n",
      "Epoch 004\n",
      "  Train Loss: 0.0248 | Val Loss: 0.0210\n",
      "  Overall Val MAE: 0.5796, RMSE: 0.7923, R²: 0.2890\n",
      "  ↳ Model improved! Saving checkpoint...\n"
     ]
    },
    {
     "data": {
      "application/vnd.jupyter.widget-view+json": {
       "model_id": "d20d2046357e461483ed703b699e24a1",
       "version_major": 2,
       "version_minor": 0
      },
      "text/plain": [
       "Epoch 5:   0%|          | 0/59 [00:00<?, ?it/s]"
      ]
     },
     "metadata": {},
     "output_type": "display_data"
    },
    {
     "name": "stdout",
     "output_type": "stream",
     "text": [
      "\n",
      "Epoch 005\n",
      "  Train Loss: 0.0228 | Val Loss: 0.0205\n",
      "  Overall Val MAE: 0.5785, RMSE: 0.8037, R²: 0.2684\n",
      "  ↳ Model improved! Saving checkpoint...\n"
     ]
    },
    {
     "data": {
      "application/vnd.jupyter.widget-view+json": {
       "model_id": "7b199dc237bc44f087d64aa7888d5e6e",
       "version_major": 2,
       "version_minor": 0
      },
      "text/plain": [
       "Epoch 6:   0%|          | 0/59 [00:00<?, ?it/s]"
      ]
     },
     "metadata": {},
     "output_type": "display_data"
    },
    {
     "name": "stdout",
     "output_type": "stream",
     "text": [
      "\n",
      "Epoch 006\n",
      "  Train Loss: 0.0222 | Val Loss: 0.0213\n",
      "  Overall Val MAE: 0.5703, RMSE: 0.7856, R²: 0.3011\n",
      "  ↳ No improvement for 1/15 epochs\n"
     ]
    },
    {
     "data": {
      "application/vnd.jupyter.widget-view+json": {
       "model_id": "53a598ba30fb43c2aea5366fe007c436",
       "version_major": 2,
       "version_minor": 0
      },
      "text/plain": [
       "Epoch 7:   0%|          | 0/59 [00:00<?, ?it/s]"
      ]
     },
     "metadata": {},
     "output_type": "display_data"
    },
    {
     "name": "stdout",
     "output_type": "stream",
     "text": [
      "\n",
      "Epoch 007\n",
      "  Train Loss: 0.0210 | Val Loss: 0.0182\n",
      "  Overall Val MAE: 0.5247, RMSE: 0.7411, R²: 0.3779\n",
      "  ↳ Model improved! Saving checkpoint...\n"
     ]
    },
    {
     "data": {
      "application/vnd.jupyter.widget-view+json": {
       "model_id": "22761e22c63346c297053e71e0855be5",
       "version_major": 2,
       "version_minor": 0
      },
      "text/plain": [
       "Epoch 8:   0%|          | 0/59 [00:00<?, ?it/s]"
      ]
     },
     "metadata": {},
     "output_type": "display_data"
    },
    {
     "name": "stdout",
     "output_type": "stream",
     "text": [
      "\n",
      "Epoch 008\n",
      "  Train Loss: 0.0207 | Val Loss: 0.0199\n",
      "  Overall Val MAE: 0.5431, RMSE: 0.7631, R²: 0.3405\n",
      "  ↳ No improvement for 1/15 epochs\n"
     ]
    },
    {
     "data": {
      "application/vnd.jupyter.widget-view+json": {
       "model_id": "6dc967c91528452b98ed2bce24a22624",
       "version_major": 2,
       "version_minor": 0
      },
      "text/plain": [
       "Epoch 9:   0%|          | 0/59 [00:00<?, ?it/s]"
      ]
     },
     "metadata": {},
     "output_type": "display_data"
    },
    {
     "name": "stdout",
     "output_type": "stream",
     "text": [
      "\n",
      "Epoch 009\n",
      "  Train Loss: 0.0197 | Val Loss: 0.0170\n",
      "  Overall Val MAE: 0.5240, RMSE: 0.7472, R²: 0.3677\n",
      "  ↳ Model improved! Saving checkpoint...\n"
     ]
    },
    {
     "data": {
      "application/vnd.jupyter.widget-view+json": {
       "model_id": "6805ade45e344648beea62964d3536b2",
       "version_major": 2,
       "version_minor": 0
      },
      "text/plain": [
       "Epoch 10:   0%|          | 0/59 [00:00<?, ?it/s]"
      ]
     },
     "metadata": {},
     "output_type": "display_data"
    },
    {
     "name": "stdout",
     "output_type": "stream",
     "text": [
      "\n",
      "Epoch 010\n",
      "  Train Loss: 0.0188 | Val Loss: 0.0173\n",
      "  Overall Val MAE: 0.5120, RMSE: 0.7298, R²: 0.3968\n",
      "  ↳ No improvement for 1/15 epochs\n"
     ]
    },
    {
     "data": {
      "application/vnd.jupyter.widget-view+json": {
       "model_id": "8e1257d960524341b413d133e5596a9b",
       "version_major": 2,
       "version_minor": 0
      },
      "text/plain": [
       "Epoch 11:   0%|          | 0/59 [00:00<?, ?it/s]"
      ]
     },
     "metadata": {},
     "output_type": "display_data"
    },
    {
     "name": "stdout",
     "output_type": "stream",
     "text": [
      "\n",
      "Epoch 011\n",
      "  Train Loss: 0.0181 | Val Loss: 0.0172\n",
      "  Overall Val MAE: 0.5155, RMSE: 0.7279, R²: 0.3999\n",
      "  ↳ No improvement for 2/15 epochs\n"
     ]
    },
    {
     "data": {
      "application/vnd.jupyter.widget-view+json": {
       "model_id": "eecbc231f99649d58602590847ec9841",
       "version_major": 2,
       "version_minor": 0
      },
      "text/plain": [
       "Epoch 12:   0%|          | 0/59 [00:00<?, ?it/s]"
      ]
     },
     "metadata": {},
     "output_type": "display_data"
    },
    {
     "name": "stdout",
     "output_type": "stream",
     "text": [
      "\n",
      "Epoch 012\n",
      "  Train Loss: 0.0173 | Val Loss: 0.0171\n",
      "  Overall Val MAE: 0.5054, RMSE: 0.7022, R²: 0.4416\n",
      "  ↳ No improvement for 3/15 epochs\n"
     ]
    },
    {
     "data": {
      "application/vnd.jupyter.widget-view+json": {
       "model_id": "c7812cf4957b440c8627287a4acaf4a2",
       "version_major": 2,
       "version_minor": 0
      },
      "text/plain": [
       "Epoch 13:   0%|          | 0/59 [00:00<?, ?it/s]"
      ]
     },
     "metadata": {},
     "output_type": "display_data"
    },
    {
     "name": "stdout",
     "output_type": "stream",
     "text": [
      "\n",
      "Epoch 013\n",
      "  Train Loss: 0.0170 | Val Loss: 0.0154\n",
      "  Overall Val MAE: 0.4779, RMSE: 0.6819, R²: 0.4734\n",
      "  ↳ Model improved! Saving checkpoint...\n"
     ]
    },
    {
     "data": {
      "application/vnd.jupyter.widget-view+json": {
       "model_id": "e1c67208b2004db8b41e585ef7c239fa",
       "version_major": 2,
       "version_minor": 0
      },
      "text/plain": [
       "Epoch 14:   0%|          | 0/59 [00:00<?, ?it/s]"
      ]
     },
     "metadata": {},
     "output_type": "display_data"
    },
    {
     "name": "stdout",
     "output_type": "stream",
     "text": [
      "\n",
      "Epoch 014\n",
      "  Train Loss: 0.0160 | Val Loss: 0.0159\n",
      "  Overall Val MAE: 0.4764, RMSE: 0.6853, R²: 0.4681\n",
      "  ↳ No improvement for 1/15 epochs\n"
     ]
    },
    {
     "data": {
      "application/vnd.jupyter.widget-view+json": {
       "model_id": "f66e5649248a484b93d987f9def06859",
       "version_major": 2,
       "version_minor": 0
      },
      "text/plain": [
       "Epoch 15:   0%|          | 0/59 [00:00<?, ?it/s]"
      ]
     },
     "metadata": {},
     "output_type": "display_data"
    },
    {
     "name": "stdout",
     "output_type": "stream",
     "text": [
      "\n",
      "Epoch 015\n",
      "  Train Loss: 0.0152 | Val Loss: 0.0152\n",
      "  Overall Val MAE: 0.4565, RMSE: 0.6506, R²: 0.5206\n",
      "  ↳ Model improved! Saving checkpoint...\n"
     ]
    },
    {
     "data": {
      "application/vnd.jupyter.widget-view+json": {
       "model_id": "758ff7996d0744d29d4403b3fe8d80be",
       "version_major": 2,
       "version_minor": 0
      },
      "text/plain": [
       "Epoch 16:   0%|          | 0/59 [00:00<?, ?it/s]"
      ]
     },
     "metadata": {},
     "output_type": "display_data"
    },
    {
     "name": "stdout",
     "output_type": "stream",
     "text": [
      "\n",
      "Epoch 016\n",
      "  Train Loss: 0.0149 | Val Loss: 0.0148\n",
      "  Overall Val MAE: 0.4490, RMSE: 0.6351, R²: 0.5432\n",
      "  ↳ Model improved! Saving checkpoint...\n"
     ]
    },
    {
     "data": {
      "application/vnd.jupyter.widget-view+json": {
       "model_id": "0e6e7c87b0ab494a80c4b2afa3c00aef",
       "version_major": 2,
       "version_minor": 0
      },
      "text/plain": [
       "Epoch 17:   0%|          | 0/59 [00:00<?, ?it/s]"
      ]
     },
     "metadata": {},
     "output_type": "display_data"
    },
    {
     "name": "stdout",
     "output_type": "stream",
     "text": [
      "\n",
      "Epoch 017\n",
      "  Train Loss: 0.0146 | Val Loss: 0.0145\n",
      "  Overall Val MAE: 0.4225, RMSE: 0.6013, R²: 0.5905\n",
      "  ↳ Model improved! Saving checkpoint...\n"
     ]
    },
    {
     "data": {
      "application/vnd.jupyter.widget-view+json": {
       "model_id": "31efacbc01ab47838a11798be2432fa8",
       "version_major": 2,
       "version_minor": 0
      },
      "text/plain": [
       "Epoch 18:   0%|          | 0/59 [00:00<?, ?it/s]"
      ]
     },
     "metadata": {},
     "output_type": "display_data"
    },
    {
     "name": "stdout",
     "output_type": "stream",
     "text": [
      "\n",
      "Epoch 018\n",
      "  Train Loss: 0.0142 | Val Loss: 0.0145\n",
      "  Overall Val MAE: 0.4351, RMSE: 0.6207, R²: 0.5636\n",
      "  ↳ Model improved! Saving checkpoint...\n"
     ]
    },
    {
     "data": {
      "application/vnd.jupyter.widget-view+json": {
       "model_id": "03cce464c9a1402cbc0fee1fead04aad",
       "version_major": 2,
       "version_minor": 0
      },
      "text/plain": [
       "Epoch 19:   0%|          | 0/59 [00:00<?, ?it/s]"
      ]
     },
     "metadata": {},
     "output_type": "display_data"
    },
    {
     "name": "stdout",
     "output_type": "stream",
     "text": [
      "\n",
      "Epoch 019\n",
      "  Train Loss: 0.0134 | Val Loss: 0.0141\n",
      "  Overall Val MAE: 0.4082, RMSE: 0.5962, R²: 0.5974\n",
      "  ↳ Model improved! Saving checkpoint...\n"
     ]
    },
    {
     "data": {
      "application/vnd.jupyter.widget-view+json": {
       "model_id": "d8f02d727c454999bd79e6e337cc5e68",
       "version_major": 2,
       "version_minor": 0
      },
      "text/plain": [
       "Epoch 20:   0%|          | 0/59 [00:00<?, ?it/s]"
      ]
     },
     "metadata": {},
     "output_type": "display_data"
    },
    {
     "name": "stdout",
     "output_type": "stream",
     "text": [
      "\n",
      "Epoch 020\n",
      "  Train Loss: 0.0128 | Val Loss: 0.0145\n",
      "  Overall Val MAE: 0.4176, RMSE: 0.5946, R²: 0.5996\n",
      "  ↳ No improvement for 1/15 epochs\n"
     ]
    },
    {
     "data": {
      "application/vnd.jupyter.widget-view+json": {
       "model_id": "fa6176218a7049e6a0d00f4711c5edc6",
       "version_major": 2,
       "version_minor": 0
      },
      "text/plain": [
       "Epoch 21:   0%|          | 0/59 [00:00<?, ?it/s]"
      ]
     },
     "metadata": {},
     "output_type": "display_data"
    },
    {
     "name": "stdout",
     "output_type": "stream",
     "text": [
      "\n",
      "Epoch 021\n",
      "  Train Loss: 0.0123 | Val Loss: 0.0132\n",
      "  Overall Val MAE: 0.3891, RMSE: 0.5674, R²: 0.6354\n",
      "  ↳ Model improved! Saving checkpoint...\n"
     ]
    },
    {
     "data": {
      "application/vnd.jupyter.widget-view+json": {
       "model_id": "1fab3b830a324eeb9a2dc94f64fa9579",
       "version_major": 2,
       "version_minor": 0
      },
      "text/plain": [
       "Epoch 22:   0%|          | 0/59 [00:00<?, ?it/s]"
      ]
     },
     "metadata": {},
     "output_type": "display_data"
    },
    {
     "name": "stdout",
     "output_type": "stream",
     "text": [
      "\n",
      "Epoch 022\n",
      "  Train Loss: 0.0124 | Val Loss: 0.0145\n",
      "  Overall Val MAE: 0.4048, RMSE: 0.5859, R²: 0.6112\n",
      "  ↳ No improvement for 1/15 epochs\n"
     ]
    },
    {
     "data": {
      "application/vnd.jupyter.widget-view+json": {
       "model_id": "2ab933f7c796420093ba383c0307f2ce",
       "version_major": 2,
       "version_minor": 0
      },
      "text/plain": [
       "Epoch 23:   0%|          | 0/59 [00:00<?, ?it/s]"
      ]
     },
     "metadata": {},
     "output_type": "display_data"
    },
    {
     "name": "stdout",
     "output_type": "stream",
     "text": [
      "\n",
      "Epoch 023\n",
      "  Train Loss: 0.0120 | Val Loss: 0.0136\n",
      "  Overall Val MAE: 0.3873, RMSE: 0.5596, R²: 0.6454\n",
      "  ↳ No improvement for 2/15 epochs\n"
     ]
    },
    {
     "data": {
      "application/vnd.jupyter.widget-view+json": {
       "model_id": "e56461e86ea34f2eab7fd06fab6e5cb7",
       "version_major": 2,
       "version_minor": 0
      },
      "text/plain": [
       "Epoch 24:   0%|          | 0/59 [00:00<?, ?it/s]"
      ]
     },
     "metadata": {},
     "output_type": "display_data"
    },
    {
     "name": "stdout",
     "output_type": "stream",
     "text": [
      "\n",
      "Epoch 024\n",
      "  Train Loss: 0.0116 | Val Loss: 0.0140\n",
      "  Overall Val MAE: 0.3937, RMSE: 0.5691, R²: 0.6332\n",
      "  ↳ No improvement for 3/15 epochs\n"
     ]
    },
    {
     "data": {
      "application/vnd.jupyter.widget-view+json": {
       "model_id": "1d3b7ab4be184cfebec9bf32232a3f12",
       "version_major": 2,
       "version_minor": 0
      },
      "text/plain": [
       "Epoch 25:   0%|          | 0/59 [00:00<?, ?it/s]"
      ]
     },
     "metadata": {},
     "output_type": "display_data"
    },
    {
     "name": "stdout",
     "output_type": "stream",
     "text": [
      "\n",
      "Epoch 025\n",
      "  Train Loss: 0.0108 | Val Loss: 0.0138\n",
      "  Overall Val MAE: 0.3851, RMSE: 0.5694, R²: 0.6328\n",
      "  ↳ No improvement for 4/15 epochs\n"
     ]
    },
    {
     "data": {
      "application/vnd.jupyter.widget-view+json": {
       "model_id": "1d9651ebd1804b039178b15d130d367f",
       "version_major": 2,
       "version_minor": 0
      },
      "text/plain": [
       "Epoch 26:   0%|          | 0/59 [00:00<?, ?it/s]"
      ]
     },
     "metadata": {},
     "output_type": "display_data"
    },
    {
     "name": "stdout",
     "output_type": "stream",
     "text": [
      "\n",
      "Epoch 026\n",
      "  Train Loss: 0.0107 | Val Loss: 0.0131\n",
      "  Overall Val MAE: 0.3653, RMSE: 0.5427, R²: 0.6665\n",
      "  ↳ Model improved! Saving checkpoint...\n"
     ]
    },
    {
     "data": {
      "application/vnd.jupyter.widget-view+json": {
       "model_id": "7a6d31459354414f998bca34d0c5809b",
       "version_major": 2,
       "version_minor": 0
      },
      "text/plain": [
       "Epoch 27:   0%|          | 0/59 [00:00<?, ?it/s]"
      ]
     },
     "metadata": {},
     "output_type": "display_data"
    },
    {
     "name": "stdout",
     "output_type": "stream",
     "text": [
      "\n",
      "Epoch 027\n",
      "  Train Loss: 0.0104 | Val Loss: 0.0137\n",
      "  Overall Val MAE: 0.3617, RMSE: 0.5508, R²: 0.6564\n",
      "  ↳ No improvement for 1/15 epochs\n"
     ]
    },
    {
     "data": {
      "application/vnd.jupyter.widget-view+json": {
       "model_id": "becc5fe7125c48869617cdfd01ddab43",
       "version_major": 2,
       "version_minor": 0
      },
      "text/plain": [
       "Epoch 28:   0%|          | 0/59 [00:00<?, ?it/s]"
      ]
     },
     "metadata": {},
     "output_type": "display_data"
    },
    {
     "name": "stdout",
     "output_type": "stream",
     "text": [
      "\n",
      "Epoch 028\n",
      "  Train Loss: 0.0109 | Val Loss: 0.0142\n",
      "  Overall Val MAE: 0.3723, RMSE: 0.5461, R²: 0.6622\n",
      "  ↳ No improvement for 2/15 epochs\n"
     ]
    },
    {
     "data": {
      "application/vnd.jupyter.widget-view+json": {
       "model_id": "fc5095d6490f454aa987a22d0b53359e",
       "version_major": 2,
       "version_minor": 0
      },
      "text/plain": [
       "Epoch 29:   0%|          | 0/59 [00:00<?, ?it/s]"
      ]
     },
     "metadata": {},
     "output_type": "display_data"
    },
    {
     "name": "stdout",
     "output_type": "stream",
     "text": [
      "\n",
      "Epoch 029\n",
      "  Train Loss: 0.0101 | Val Loss: 0.0128\n",
      "  Overall Val MAE: 0.3595, RMSE: 0.5276, R²: 0.6847\n",
      "  ↳ Model improved! Saving checkpoint...\n"
     ]
    },
    {
     "data": {
      "application/vnd.jupyter.widget-view+json": {
       "model_id": "99e5c27885fd41f9ac5424ab1716ee74",
       "version_major": 2,
       "version_minor": 0
      },
      "text/plain": [
       "Epoch 30:   0%|          | 0/59 [00:00<?, ?it/s]"
      ]
     },
     "metadata": {},
     "output_type": "display_data"
    },
    {
     "name": "stdout",
     "output_type": "stream",
     "text": [
      "\n",
      "Epoch 030\n",
      "  Train Loss: 0.0092 | Val Loss: 0.0130\n",
      "  Overall Val MAE: 0.3432, RMSE: 0.5187, R²: 0.6953\n",
      "  ↳ No improvement for 1/15 epochs\n"
     ]
    },
    {
     "data": {
      "application/vnd.jupyter.widget-view+json": {
       "model_id": "3d5e9e5d52a74f579c29267d3673c989",
       "version_major": 2,
       "version_minor": 0
      },
      "text/plain": [
       "Epoch 31:   0%|          | 0/59 [00:00<?, ?it/s]"
      ]
     },
     "metadata": {},
     "output_type": "display_data"
    },
    {
     "name": "stdout",
     "output_type": "stream",
     "text": [
      "\n",
      "Epoch 031\n",
      "  Train Loss: 0.0090 | Val Loss: 0.0125\n",
      "  Overall Val MAE: 0.3399, RMSE: 0.5112, R²: 0.7040\n",
      "  ↳ Model improved! Saving checkpoint...\n"
     ]
    },
    {
     "data": {
      "application/vnd.jupyter.widget-view+json": {
       "model_id": "9a2bd5abe1b740f8b3fa91d7fe3b7319",
       "version_major": 2,
       "version_minor": 0
      },
      "text/plain": [
       "Epoch 32:   0%|          | 0/59 [00:00<?, ?it/s]"
      ]
     },
     "metadata": {},
     "output_type": "display_data"
    },
    {
     "name": "stdout",
     "output_type": "stream",
     "text": [
      "\n",
      "Epoch 032\n",
      "  Train Loss: 0.0088 | Val Loss: 0.0124\n",
      "  Overall Val MAE: 0.3386, RMSE: 0.5105, R²: 0.7049\n",
      "  ↳ Model improved! Saving checkpoint...\n"
     ]
    },
    {
     "data": {
      "application/vnd.jupyter.widget-view+json": {
       "model_id": "f813229f1172419d937f2aae96a4522f",
       "version_major": 2,
       "version_minor": 0
      },
      "text/plain": [
       "Epoch 33:   0%|          | 0/59 [00:00<?, ?it/s]"
      ]
     },
     "metadata": {},
     "output_type": "display_data"
    },
    {
     "name": "stdout",
     "output_type": "stream",
     "text": [
      "\n",
      "Epoch 033\n",
      "  Train Loss: 0.0087 | Val Loss: 0.0132\n",
      "  Overall Val MAE: 0.3246, RMSE: 0.5034, R²: 0.7131\n",
      "  ↳ No improvement for 1/15 epochs\n"
     ]
    },
    {
     "data": {
      "application/vnd.jupyter.widget-view+json": {
       "model_id": "1eac1e16a0194a82bf339ac80700d4e0",
       "version_major": 2,
       "version_minor": 0
      },
      "text/plain": [
       "Epoch 34:   0%|          | 0/59 [00:00<?, ?it/s]"
      ]
     },
     "metadata": {},
     "output_type": "display_data"
    },
    {
     "name": "stdout",
     "output_type": "stream",
     "text": [
      "\n",
      "Epoch 034\n",
      "  Train Loss: 0.0088 | Val Loss: 0.0128\n",
      "  Overall Val MAE: 0.3401, RMSE: 0.5086, R²: 0.7070\n",
      "  ↳ No improvement for 2/15 epochs\n"
     ]
    },
    {
     "data": {
      "application/vnd.jupyter.widget-view+json": {
       "model_id": "04a581e3f8b44b5a9ab0e7ac64435bd3",
       "version_major": 2,
       "version_minor": 0
      },
      "text/plain": [
       "Epoch 35:   0%|          | 0/59 [00:00<?, ?it/s]"
      ]
     },
     "metadata": {},
     "output_type": "display_data"
    },
    {
     "name": "stdout",
     "output_type": "stream",
     "text": [
      "\n",
      "Epoch 035\n",
      "  Train Loss: 0.0083 | Val Loss: 0.0128\n",
      "  Overall Val MAE: 0.3372, RMSE: 0.5084, R²: 0.7073\n",
      "  ↳ No improvement for 3/15 epochs\n"
     ]
    },
    {
     "data": {
      "application/vnd.jupyter.widget-view+json": {
       "model_id": "4751b9616fff4552b36b59d64f033842",
       "version_major": 2,
       "version_minor": 0
      },
      "text/plain": [
       "Epoch 36:   0%|          | 0/59 [00:00<?, ?it/s]"
      ]
     },
     "metadata": {},
     "output_type": "display_data"
    },
    {
     "name": "stdout",
     "output_type": "stream",
     "text": [
      "\n",
      "Epoch 036\n",
      "  Train Loss: 0.0082 | Val Loss: 0.0122\n",
      "  Overall Val MAE: 0.3288, RMSE: 0.5024, R²: 0.7141\n",
      "  ↳ Model improved! Saving checkpoint...\n"
     ]
    },
    {
     "data": {
      "application/vnd.jupyter.widget-view+json": {
       "model_id": "92b2590fd37240f5b6e70051123cfe59",
       "version_major": 2,
       "version_minor": 0
      },
      "text/plain": [
       "Epoch 37:   0%|          | 0/59 [00:00<?, ?it/s]"
      ]
     },
     "metadata": {},
     "output_type": "display_data"
    },
    {
     "name": "stdout",
     "output_type": "stream",
     "text": [
      "\n",
      "Epoch 037\n",
      "  Train Loss: 0.0082 | Val Loss: 0.0123\n",
      "  Overall Val MAE: 0.3190, RMSE: 0.4836, R²: 0.7351\n",
      "  ↳ No improvement for 1/15 epochs\n"
     ]
    },
    {
     "data": {
      "application/vnd.jupyter.widget-view+json": {
       "model_id": "293184e872434136a1686e341ad5623a",
       "version_major": 2,
       "version_minor": 0
      },
      "text/plain": [
       "Epoch 38:   0%|          | 0/59 [00:00<?, ?it/s]"
      ]
     },
     "metadata": {},
     "output_type": "display_data"
    },
    {
     "name": "stdout",
     "output_type": "stream",
     "text": [
      "\n",
      "Epoch 038\n",
      "  Train Loss: 0.0078 | Val Loss: 0.0125\n",
      "  Overall Val MAE: 0.3185, RMSE: 0.4801, R²: 0.7389\n",
      "  ↳ No improvement for 2/15 epochs\n"
     ]
    },
    {
     "data": {
      "application/vnd.jupyter.widget-view+json": {
       "model_id": "f864040748804f17a3985642a2394a27",
       "version_major": 2,
       "version_minor": 0
      },
      "text/plain": [
       "Epoch 39:   0%|          | 0/59 [00:00<?, ?it/s]"
      ]
     },
     "metadata": {},
     "output_type": "display_data"
    },
    {
     "name": "stdout",
     "output_type": "stream",
     "text": [
      "\n",
      "Epoch 039\n",
      "  Train Loss: 0.0076 | Val Loss: 0.0124\n",
      "  Overall Val MAE: 0.3133, RMSE: 0.4811, R²: 0.7379\n",
      "  ↳ No improvement for 3/15 epochs\n"
     ]
    },
    {
     "data": {
      "application/vnd.jupyter.widget-view+json": {
       "model_id": "cad0cbecde664dc4a3f4b09c48003997",
       "version_major": 2,
       "version_minor": 0
      },
      "text/plain": [
       "Epoch 40:   0%|          | 0/59 [00:00<?, ?it/s]"
      ]
     },
     "metadata": {},
     "output_type": "display_data"
    },
    {
     "name": "stdout",
     "output_type": "stream",
     "text": [
      "\n",
      "Epoch 040\n",
      "  Train Loss: 0.0073 | Val Loss: 0.0122\n",
      "  Overall Val MAE: 0.3109, RMSE: 0.4766, R²: 0.7427\n",
      "  ↳ No improvement for 4/15 epochs\n"
     ]
    },
    {
     "data": {
      "application/vnd.jupyter.widget-view+json": {
       "model_id": "9169b693db8e4aaf94bd1ef4363f0276",
       "version_major": 2,
       "version_minor": 0
      },
      "text/plain": [
       "Epoch 41:   0%|          | 0/59 [00:00<?, ?it/s]"
      ]
     },
     "metadata": {},
     "output_type": "display_data"
    },
    {
     "name": "stdout",
     "output_type": "stream",
     "text": [
      "\n",
      "Epoch 041\n",
      "  Train Loss: 0.0075 | Val Loss: 0.0122\n",
      "  Overall Val MAE: 0.3034, RMSE: 0.4700, R²: 0.7498\n",
      "  ↳ No improvement for 5/15 epochs\n"
     ]
    },
    {
     "data": {
      "application/vnd.jupyter.widget-view+json": {
       "model_id": "4533bc5d850f4146b598e106b2f17aae",
       "version_major": 2,
       "version_minor": 0
      },
      "text/plain": [
       "Epoch 42:   0%|          | 0/59 [00:00<?, ?it/s]"
      ]
     },
     "metadata": {},
     "output_type": "display_data"
    },
    {
     "name": "stdout",
     "output_type": "stream",
     "text": [
      "\n",
      "Epoch 042\n",
      "  Train Loss: 0.0072 | Val Loss: 0.0121\n",
      "  Overall Val MAE: 0.3032, RMSE: 0.4728, R²: 0.7468\n",
      "  ↳ Model improved! Saving checkpoint...\n"
     ]
    },
    {
     "data": {
      "application/vnd.jupyter.widget-view+json": {
       "model_id": "cc2f2a509b6a40adac9a22ee2c757fda",
       "version_major": 2,
       "version_minor": 0
      },
      "text/plain": [
       "Epoch 43:   0%|          | 0/59 [00:00<?, ?it/s]"
      ]
     },
     "metadata": {},
     "output_type": "display_data"
    },
    {
     "name": "stdout",
     "output_type": "stream",
     "text": [
      "\n",
      "Epoch 043\n",
      "  Train Loss: 0.0072 | Val Loss: 0.0120\n",
      "  Overall Val MAE: 0.3030, RMSE: 0.4633, R²: 0.7569\n",
      "  ↳ Model improved! Saving checkpoint...\n"
     ]
    },
    {
     "data": {
      "application/vnd.jupyter.widget-view+json": {
       "model_id": "7b99b76ac28343959fff4435c7c3d654",
       "version_major": 2,
       "version_minor": 0
      },
      "text/plain": [
       "Epoch 44:   0%|          | 0/59 [00:00<?, ?it/s]"
      ]
     },
     "metadata": {},
     "output_type": "display_data"
    },
    {
     "name": "stdout",
     "output_type": "stream",
     "text": [
      "\n",
      "Epoch 044\n",
      "  Train Loss: 0.0071 | Val Loss: 0.0127\n",
      "  Overall Val MAE: 0.2995, RMSE: 0.4681, R²: 0.7519\n",
      "  ↳ No improvement for 1/15 epochs\n"
     ]
    },
    {
     "data": {
      "application/vnd.jupyter.widget-view+json": {
       "model_id": "4765a4e2266a492db7b187a5b502b19d",
       "version_major": 2,
       "version_minor": 0
      },
      "text/plain": [
       "Epoch 45:   0%|          | 0/59 [00:00<?, ?it/s]"
      ]
     },
     "metadata": {},
     "output_type": "display_data"
    },
    {
     "name": "stdout",
     "output_type": "stream",
     "text": [
      "\n",
      "Epoch 045\n",
      "  Train Loss: 0.0069 | Val Loss: 0.0127\n",
      "  Overall Val MAE: 0.3083, RMSE: 0.4759, R²: 0.7435\n",
      "  ↳ No improvement for 2/15 epochs\n"
     ]
    },
    {
     "data": {
      "application/vnd.jupyter.widget-view+json": {
       "model_id": "502c6a5602e24d37a70fb15355a106f8",
       "version_major": 2,
       "version_minor": 0
      },
      "text/plain": [
       "Epoch 46:   0%|          | 0/59 [00:00<?, ?it/s]"
      ]
     },
     "metadata": {},
     "output_type": "display_data"
    },
    {
     "name": "stdout",
     "output_type": "stream",
     "text": [
      "\n",
      "Epoch 046\n",
      "  Train Loss: 0.0071 | Val Loss: 0.0124\n",
      "  Overall Val MAE: 0.2951, RMSE: 0.4664, R²: 0.7536\n",
      "  ↳ No improvement for 3/15 epochs\n"
     ]
    },
    {
     "data": {
      "application/vnd.jupyter.widget-view+json": {
       "model_id": "e51702c810ef4b44acd229ffb5835d8c",
       "version_major": 2,
       "version_minor": 0
      },
      "text/plain": [
       "Epoch 47:   0%|          | 0/59 [00:00<?, ?it/s]"
      ]
     },
     "metadata": {},
     "output_type": "display_data"
    },
    {
     "name": "stdout",
     "output_type": "stream",
     "text": [
      "\n",
      "Epoch 047\n",
      "  Train Loss: 0.0069 | Val Loss: 0.0122\n",
      "  Overall Val MAE: 0.2971, RMSE: 0.4639, R²: 0.7563\n",
      "  ↳ No improvement for 4/15 epochs\n"
     ]
    },
    {
     "data": {
      "application/vnd.jupyter.widget-view+json": {
       "model_id": "d63ba58484b14377920a23b2ef63701e",
       "version_major": 2,
       "version_minor": 0
      },
      "text/plain": [
       "Epoch 48:   0%|          | 0/59 [00:00<?, ?it/s]"
      ]
     },
     "metadata": {},
     "output_type": "display_data"
    },
    {
     "name": "stdout",
     "output_type": "stream",
     "text": [
      "\n",
      "Epoch 048\n",
      "  Train Loss: 0.0066 | Val Loss: 0.0123\n",
      "  Overall Val MAE: 0.2964, RMSE: 0.4567, R²: 0.7638\n",
      "  ↳ No improvement for 5/15 epochs\n"
     ]
    },
    {
     "data": {
      "application/vnd.jupyter.widget-view+json": {
       "model_id": "c066ccb74eb54ce3936d8549f00efb53",
       "version_major": 2,
       "version_minor": 0
      },
      "text/plain": [
       "Epoch 49:   0%|          | 0/59 [00:00<?, ?it/s]"
      ]
     },
     "metadata": {},
     "output_type": "display_data"
    },
    {
     "name": "stdout",
     "output_type": "stream",
     "text": [
      "\n",
      "Epoch 049\n",
      "  Train Loss: 0.0064 | Val Loss: 0.0124\n",
      "  Overall Val MAE: 0.2916, RMSE: 0.4607, R²: 0.7596\n",
      "  ↳ No improvement for 6/15 epochs\n"
     ]
    },
    {
     "data": {
      "application/vnd.jupyter.widget-view+json": {
       "model_id": "498f2db8ddf44ee3941b4d9d1b3c930b",
       "version_major": 2,
       "version_minor": 0
      },
      "text/plain": [
       "Epoch 50:   0%|          | 0/59 [00:00<?, ?it/s]"
      ]
     },
     "metadata": {},
     "output_type": "display_data"
    },
    {
     "name": "stdout",
     "output_type": "stream",
     "text": [
      "\n",
      "Epoch 050\n",
      "  Train Loss: 0.0061 | Val Loss: 0.0118\n",
      "  Overall Val MAE: 0.2791, RMSE: 0.4491, R²: 0.7716\n",
      "  ↳ Model improved! Saving checkpoint...\n"
     ]
    },
    {
     "data": {
      "application/vnd.jupyter.widget-view+json": {
       "model_id": "3398ac7c6eaa47bba1998468308ce4fe",
       "version_major": 2,
       "version_minor": 0
      },
      "text/plain": [
       "Epoch 51:   0%|          | 0/59 [00:00<?, ?it/s]"
      ]
     },
     "metadata": {},
     "output_type": "display_data"
    },
    {
     "name": "stdout",
     "output_type": "stream",
     "text": [
      "\n",
      "Epoch 051\n",
      "  Train Loss: 0.0057 | Val Loss: 0.0120\n",
      "  Overall Val MAE: 0.2778, RMSE: 0.4458, R²: 0.7749\n",
      "  ↳ No improvement for 1/15 epochs\n"
     ]
    },
    {
     "data": {
      "application/vnd.jupyter.widget-view+json": {
       "model_id": "4ca4b5a266324b6099d8e60dc3019c1a",
       "version_major": 2,
       "version_minor": 0
      },
      "text/plain": [
       "Epoch 52:   0%|          | 0/59 [00:00<?, ?it/s]"
      ]
     },
     "metadata": {},
     "output_type": "display_data"
    },
    {
     "name": "stdout",
     "output_type": "stream",
     "text": [
      "\n",
      "Epoch 052\n",
      "  Train Loss: 0.0056 | Val Loss: 0.0120\n",
      "  Overall Val MAE: 0.2732, RMSE: 0.4449, R²: 0.7759\n",
      "  ↳ No improvement for 2/15 epochs\n"
     ]
    },
    {
     "data": {
      "application/vnd.jupyter.widget-view+json": {
       "model_id": "14b81c06e6ce4e39b189eff22d09959c",
       "version_major": 2,
       "version_minor": 0
      },
      "text/plain": [
       "Epoch 53:   0%|          | 0/59 [00:00<?, ?it/s]"
      ]
     },
     "metadata": {},
     "output_type": "display_data"
    },
    {
     "name": "stdout",
     "output_type": "stream",
     "text": [
      "\n",
      "Epoch 053\n",
      "  Train Loss: 0.0055 | Val Loss: 0.0117\n",
      "  Overall Val MAE: 0.2717, RMSE: 0.4406, R²: 0.7801\n",
      "  ↳ Model improved! Saving checkpoint...\n"
     ]
    },
    {
     "data": {
      "application/vnd.jupyter.widget-view+json": {
       "model_id": "1117757739b0419cae6a1e830e4f5203",
       "version_major": 2,
       "version_minor": 0
      },
      "text/plain": [
       "Epoch 54:   0%|          | 0/59 [00:00<?, ?it/s]"
      ]
     },
     "metadata": {},
     "output_type": "display_data"
    },
    {
     "name": "stdout",
     "output_type": "stream",
     "text": [
      "\n",
      "Epoch 054\n",
      "  Train Loss: 0.0054 | Val Loss: 0.0120\n",
      "  Overall Val MAE: 0.2742, RMSE: 0.4431, R²: 0.7776\n",
      "  ↳ No improvement for 1/15 epochs\n"
     ]
    },
    {
     "data": {
      "application/vnd.jupyter.widget-view+json": {
       "model_id": "0c514271ae354337afdb73e81e01066d",
       "version_major": 2,
       "version_minor": 0
      },
      "text/plain": [
       "Epoch 55:   0%|          | 0/59 [00:00<?, ?it/s]"
      ]
     },
     "metadata": {},
     "output_type": "display_data"
    },
    {
     "name": "stdout",
     "output_type": "stream",
     "text": [
      "\n",
      "Epoch 055\n",
      "  Train Loss: 0.0053 | Val Loss: 0.0118\n",
      "  Overall Val MAE: 0.2716, RMSE: 0.4391, R²: 0.7817\n",
      "  ↳ No improvement for 2/15 epochs\n"
     ]
    },
    {
     "data": {
      "application/vnd.jupyter.widget-view+json": {
       "model_id": "b012cd5a5d0a4da4ba331709057a5642",
       "version_major": 2,
       "version_minor": 0
      },
      "text/plain": [
       "Epoch 56:   0%|          | 0/59 [00:00<?, ?it/s]"
      ]
     },
     "metadata": {},
     "output_type": "display_data"
    },
    {
     "name": "stdout",
     "output_type": "stream",
     "text": [
      "\n",
      "Epoch 056\n",
      "  Train Loss: 0.0052 | Val Loss: 0.0117\n",
      "  Overall Val MAE: 0.2691, RMSE: 0.4347, R²: 0.7860\n",
      "  ↳ Model improved! Saving checkpoint...\n"
     ]
    },
    {
     "data": {
      "application/vnd.jupyter.widget-view+json": {
       "model_id": "e5007e51deb7448c926c517a322f1899",
       "version_major": 2,
       "version_minor": 0
      },
      "text/plain": [
       "Epoch 57:   0%|          | 0/59 [00:00<?, ?it/s]"
      ]
     },
     "metadata": {},
     "output_type": "display_data"
    },
    {
     "name": "stdout",
     "output_type": "stream",
     "text": [
      "\n",
      "Epoch 057\n",
      "  Train Loss: 0.0053 | Val Loss: 0.0119\n",
      "  Overall Val MAE: 0.2782, RMSE: 0.4458, R²: 0.7749\n",
      "  ↳ No improvement for 1/15 epochs\n"
     ]
    },
    {
     "data": {
      "application/vnd.jupyter.widget-view+json": {
       "model_id": "7cdc066c2abd4df2beb23f847975e241",
       "version_major": 2,
       "version_minor": 0
      },
      "text/plain": [
       "Epoch 58:   0%|          | 0/59 [00:00<?, ?it/s]"
      ]
     },
     "metadata": {},
     "output_type": "display_data"
    },
    {
     "name": "stdout",
     "output_type": "stream",
     "text": [
      "\n",
      "Epoch 058\n",
      "  Train Loss: 0.0053 | Val Loss: 0.0119\n",
      "  Overall Val MAE: 0.2734, RMSE: 0.4441, R²: 0.7767\n",
      "  ↳ No improvement for 2/15 epochs\n"
     ]
    },
    {
     "data": {
      "application/vnd.jupyter.widget-view+json": {
       "model_id": "77eec6ef6dd945b78063bffecc6d1d43",
       "version_major": 2,
       "version_minor": 0
      },
      "text/plain": [
       "Epoch 59:   0%|          | 0/59 [00:00<?, ?it/s]"
      ]
     },
     "metadata": {},
     "output_type": "display_data"
    },
    {
     "name": "stdout",
     "output_type": "stream",
     "text": [
      "\n",
      "Epoch 059\n",
      "  Train Loss: 0.0053 | Val Loss: 0.0119\n",
      "  Overall Val MAE: 0.2693, RMSE: 0.4406, R²: 0.7801\n",
      "  ↳ No improvement for 3/15 epochs\n"
     ]
    },
    {
     "data": {
      "application/vnd.jupyter.widget-view+json": {
       "model_id": "fb13a2a06eef4fdbb78f40d574aaacde",
       "version_major": 2,
       "version_minor": 0
      },
      "text/plain": [
       "Epoch 60:   0%|          | 0/59 [00:00<?, ?it/s]"
      ]
     },
     "metadata": {},
     "output_type": "display_data"
    },
    {
     "name": "stdout",
     "output_type": "stream",
     "text": [
      "\n",
      "Epoch 060\n",
      "  Train Loss: 0.0050 | Val Loss: 0.0118\n",
      "  Overall Val MAE: 0.2652, RMSE: 0.4363, R²: 0.7844\n",
      "  ↳ No improvement for 4/15 epochs\n"
     ]
    },
    {
     "data": {
      "application/vnd.jupyter.widget-view+json": {
       "model_id": "9d09165771e54fbcb173987729fd8042",
       "version_major": 2,
       "version_minor": 0
      },
      "text/plain": [
       "Epoch 61:   0%|          | 0/59 [00:00<?, ?it/s]"
      ]
     },
     "metadata": {},
     "output_type": "display_data"
    },
    {
     "name": "stdout",
     "output_type": "stream",
     "text": [
      "\n",
      "Epoch 061\n",
      "  Train Loss: 0.0051 | Val Loss: 0.0120\n",
      "  Overall Val MAE: 0.2717, RMSE: 0.4407, R²: 0.7800\n",
      "  ↳ No improvement for 5/15 epochs\n"
     ]
    },
    {
     "data": {
      "application/vnd.jupyter.widget-view+json": {
       "model_id": "ef1116c2353142dc898b870163f512a9",
       "version_major": 2,
       "version_minor": 0
      },
      "text/plain": [
       "Epoch 62:   0%|          | 0/59 [00:00<?, ?it/s]"
      ]
     },
     "metadata": {},
     "output_type": "display_data"
    },
    {
     "name": "stdout",
     "output_type": "stream",
     "text": [
      "\n",
      "Epoch 062\n",
      "  Train Loss: 0.0052 | Val Loss: 0.0120\n",
      "  Overall Val MAE: 0.2722, RMSE: 0.4372, R²: 0.7835\n",
      "  ↳ No improvement for 6/15 epochs\n"
     ]
    },
    {
     "data": {
      "application/vnd.jupyter.widget-view+json": {
       "model_id": "9d772a9d9ff64aeeb8c8cc18f4407545",
       "version_major": 2,
       "version_minor": 0
      },
      "text/plain": [
       "Epoch 63:   0%|          | 0/59 [00:00<?, ?it/s]"
      ]
     },
     "metadata": {},
     "output_type": "display_data"
    },
    {
     "name": "stdout",
     "output_type": "stream",
     "text": [
      "\n",
      "Epoch 063\n",
      "  Train Loss: 0.0050 | Val Loss: 0.0118\n",
      "  Overall Val MAE: 0.2590, RMSE: 0.4331, R²: 0.7876\n",
      "  ↳ No improvement for 7/15 epochs\n"
     ]
    },
    {
     "data": {
      "application/vnd.jupyter.widget-view+json": {
       "model_id": "e2a26da73ecd4c5c9a51cdf89d1b518c",
       "version_major": 2,
       "version_minor": 0
      },
      "text/plain": [
       "Epoch 64:   0%|          | 0/59 [00:00<?, ?it/s]"
      ]
     },
     "metadata": {},
     "output_type": "display_data"
    },
    {
     "name": "stdout",
     "output_type": "stream",
     "text": [
      "\n",
      "Epoch 064\n",
      "  Train Loss: 0.0048 | Val Loss: 0.0118\n",
      "  Overall Val MAE: 0.2629, RMSE: 0.4315, R²: 0.7892\n",
      "  ↳ No improvement for 8/15 epochs\n"
     ]
    },
    {
     "data": {
      "application/vnd.jupyter.widget-view+json": {
       "model_id": "e120b57af3c34067b732348f700c9ce7",
       "version_major": 2,
       "version_minor": 0
      },
      "text/plain": [
       "Epoch 65:   0%|          | 0/59 [00:00<?, ?it/s]"
      ]
     },
     "metadata": {},
     "output_type": "display_data"
    },
    {
     "name": "stdout",
     "output_type": "stream",
     "text": [
      "\n",
      "Epoch 065\n",
      "  Train Loss: 0.0047 | Val Loss: 0.0116\n",
      "  Overall Val MAE: 0.2586, RMSE: 0.4265, R²: 0.7940\n",
      "  ↳ Model improved! Saving checkpoint...\n"
     ]
    },
    {
     "data": {
      "application/vnd.jupyter.widget-view+json": {
       "model_id": "fde1ae6bd01a4b73ad9e2052108dcd39",
       "version_major": 2,
       "version_minor": 0
      },
      "text/plain": [
       "Epoch 66:   0%|          | 0/59 [00:00<?, ?it/s]"
      ]
     },
     "metadata": {},
     "output_type": "display_data"
    },
    {
     "name": "stdout",
     "output_type": "stream",
     "text": [
      "\n",
      "Epoch 066\n",
      "  Train Loss: 0.0047 | Val Loss: 0.0117\n",
      "  Overall Val MAE: 0.2609, RMSE: 0.4304, R²: 0.7902\n",
      "  ↳ No improvement for 1/15 epochs\n"
     ]
    },
    {
     "data": {
      "application/vnd.jupyter.widget-view+json": {
       "model_id": "ad611c3528f546b8bf2ece700380405c",
       "version_major": 2,
       "version_minor": 0
      },
      "text/plain": [
       "Epoch 67:   0%|          | 0/59 [00:00<?, ?it/s]"
      ]
     },
     "metadata": {},
     "output_type": "display_data"
    },
    {
     "name": "stdout",
     "output_type": "stream",
     "text": [
      "\n",
      "Epoch 067\n",
      "  Train Loss: 0.0047 | Val Loss: 0.0117\n",
      "  Overall Val MAE: 0.2596, RMSE: 0.4298, R²: 0.7908\n",
      "  ↳ No improvement for 2/15 epochs\n"
     ]
    },
    {
     "data": {
      "application/vnd.jupyter.widget-view+json": {
       "model_id": "296743e2945d4f7e9f25b4c87d517634",
       "version_major": 2,
       "version_minor": 0
      },
      "text/plain": [
       "Epoch 68:   0%|          | 0/59 [00:00<?, ?it/s]"
      ]
     },
     "metadata": {},
     "output_type": "display_data"
    },
    {
     "name": "stdout",
     "output_type": "stream",
     "text": [
      "\n",
      "Epoch 068\n",
      "  Train Loss: 0.0046 | Val Loss: 0.0117\n",
      "  Overall Val MAE: 0.2606, RMSE: 0.4262, R²: 0.7943\n",
      "  ↳ No improvement for 3/15 epochs\n"
     ]
    },
    {
     "data": {
      "application/vnd.jupyter.widget-view+json": {
       "model_id": "3d7d4e35b09841a183cb7e748d94258a",
       "version_major": 2,
       "version_minor": 0
      },
      "text/plain": [
       "Epoch 69:   0%|          | 0/59 [00:00<?, ?it/s]"
      ]
     },
     "metadata": {},
     "output_type": "display_data"
    },
    {
     "name": "stdout",
     "output_type": "stream",
     "text": [
      "\n",
      "Epoch 069\n",
      "  Train Loss: 0.0047 | Val Loss: 0.0117\n",
      "  Overall Val MAE: 0.2591, RMSE: 0.4257, R²: 0.7948\n",
      "  ↳ No improvement for 4/15 epochs\n"
     ]
    },
    {
     "data": {
      "application/vnd.jupyter.widget-view+json": {
       "model_id": "88acb6c613874c49afbc64481802cec7",
       "version_major": 2,
       "version_minor": 0
      },
      "text/plain": [
       "Epoch 70:   0%|          | 0/59 [00:00<?, ?it/s]"
      ]
     },
     "metadata": {},
     "output_type": "display_data"
    },
    {
     "name": "stdout",
     "output_type": "stream",
     "text": [
      "\n",
      "Epoch 070\n",
      "  Train Loss: 0.0046 | Val Loss: 0.0116\n",
      "  Overall Val MAE: 0.2583, RMSE: 0.4270, R²: 0.7935\n",
      "  ↳ Model improved! Saving checkpoint...\n"
     ]
    },
    {
     "data": {
      "application/vnd.jupyter.widget-view+json": {
       "model_id": "38a2c319c25442c9b6629a96fcf62465",
       "version_major": 2,
       "version_minor": 0
      },
      "text/plain": [
       "Epoch 71:   0%|          | 0/59 [00:00<?, ?it/s]"
      ]
     },
     "metadata": {},
     "output_type": "display_data"
    },
    {
     "name": "stdout",
     "output_type": "stream",
     "text": [
      "\n",
      "Epoch 071\n",
      "  Train Loss: 0.0045 | Val Loss: 0.0115\n",
      "  Overall Val MAE: 0.2567, RMSE: 0.4248, R²: 0.7956\n",
      "  ↳ Model improved! Saving checkpoint...\n"
     ]
    },
    {
     "data": {
      "application/vnd.jupyter.widget-view+json": {
       "model_id": "3797a33062334832a21100ca6621ed14",
       "version_major": 2,
       "version_minor": 0
      },
      "text/plain": [
       "Epoch 72:   0%|          | 0/59 [00:00<?, ?it/s]"
      ]
     },
     "metadata": {},
     "output_type": "display_data"
    },
    {
     "name": "stdout",
     "output_type": "stream",
     "text": [
      "\n",
      "Epoch 072\n",
      "  Train Loss: 0.0045 | Val Loss: 0.0116\n",
      "  Overall Val MAE: 0.2587, RMSE: 0.4275, R²: 0.7930\n",
      "  ↳ No improvement for 1/15 epochs\n"
     ]
    },
    {
     "data": {
      "application/vnd.jupyter.widget-view+json": {
       "model_id": "4c51d482ef374191ae1c9b44ed57794f",
       "version_major": 2,
       "version_minor": 0
      },
      "text/plain": [
       "Epoch 73:   0%|          | 0/59 [00:00<?, ?it/s]"
      ]
     },
     "metadata": {},
     "output_type": "display_data"
    },
    {
     "name": "stdout",
     "output_type": "stream",
     "text": [
      "\n",
      "Epoch 073\n",
      "  Train Loss: 0.0045 | Val Loss: 0.0118\n",
      "  Overall Val MAE: 0.2640, RMSE: 0.4342, R²: 0.7865\n",
      "  ↳ No improvement for 2/15 epochs\n"
     ]
    },
    {
     "data": {
      "application/vnd.jupyter.widget-view+json": {
       "model_id": "258d478a5c7b4efd936d4ea91f1d84d9",
       "version_major": 2,
       "version_minor": 0
      },
      "text/plain": [
       "Epoch 74:   0%|          | 0/59 [00:00<?, ?it/s]"
      ]
     },
     "metadata": {},
     "output_type": "display_data"
    },
    {
     "name": "stdout",
     "output_type": "stream",
     "text": [
      "\n",
      "Epoch 074\n",
      "  Train Loss: 0.0045 | Val Loss: 0.0117\n",
      "  Overall Val MAE: 0.2586, RMSE: 0.4272, R²: 0.7933\n",
      "  ↳ No improvement for 3/15 epochs\n"
     ]
    },
    {
     "data": {
      "application/vnd.jupyter.widget-view+json": {
       "model_id": "0b819d5562664b0b8661ef11a7926f7f",
       "version_major": 2,
       "version_minor": 0
      },
      "text/plain": [
       "Epoch 75:   0%|          | 0/59 [00:00<?, ?it/s]"
      ]
     },
     "metadata": {},
     "output_type": "display_data"
    },
    {
     "name": "stdout",
     "output_type": "stream",
     "text": [
      "\n",
      "Epoch 075\n",
      "  Train Loss: 0.0044 | Val Loss: 0.0117\n",
      "  Overall Val MAE: 0.2582, RMSE: 0.4294, R²: 0.7912\n",
      "  ↳ No improvement for 4/15 epochs\n"
     ]
    },
    {
     "data": {
      "application/vnd.jupyter.widget-view+json": {
       "model_id": "996a643456094bb3a6bc90848f639443",
       "version_major": 2,
       "version_minor": 0
      },
      "text/plain": [
       "Epoch 76:   0%|          | 0/59 [00:00<?, ?it/s]"
      ]
     },
     "metadata": {},
     "output_type": "display_data"
    },
    {
     "name": "stdout",
     "output_type": "stream",
     "text": [
      "\n",
      "Epoch 076\n",
      "  Train Loss: 0.0046 | Val Loss: 0.0116\n",
      "  Overall Val MAE: 0.2556, RMSE: 0.4242, R²: 0.7963\n",
      "  ↳ No improvement for 5/15 epochs\n"
     ]
    },
    {
     "data": {
      "application/vnd.jupyter.widget-view+json": {
       "model_id": "7711b339230f4a10ac138540727b793c",
       "version_major": 2,
       "version_minor": 0
      },
      "text/plain": [
       "Epoch 77:   0%|          | 0/59 [00:00<?, ?it/s]"
      ]
     },
     "metadata": {},
     "output_type": "display_data"
    },
    {
     "name": "stdout",
     "output_type": "stream",
     "text": [
      "\n",
      "Epoch 077\n",
      "  Train Loss: 0.0045 | Val Loss: 0.0118\n",
      "  Overall Val MAE: 0.2660, RMSE: 0.4328, R²: 0.7879\n",
      "  ↳ No improvement for 6/15 epochs\n"
     ]
    },
    {
     "data": {
      "application/vnd.jupyter.widget-view+json": {
       "model_id": "0f16147a2bb341409576b2d9ef214a37",
       "version_major": 2,
       "version_minor": 0
      },
      "text/plain": [
       "Epoch 78:   0%|          | 0/59 [00:00<?, ?it/s]"
      ]
     },
     "metadata": {},
     "output_type": "display_data"
    },
    {
     "name": "stdout",
     "output_type": "stream",
     "text": [
      "\n",
      "Epoch 078\n",
      "  Train Loss: 0.0044 | Val Loss: 0.0115\n",
      "  Overall Val MAE: 0.2530, RMSE: 0.4220, R²: 0.7984\n",
      "  ↳ No improvement for 7/15 epochs\n"
     ]
    },
    {
     "data": {
      "application/vnd.jupyter.widget-view+json": {
       "model_id": "3837e6ed831a4606adc9e68a29817704",
       "version_major": 2,
       "version_minor": 0
      },
      "text/plain": [
       "Epoch 79:   0%|          | 0/59 [00:00<?, ?it/s]"
      ]
     },
     "metadata": {},
     "output_type": "display_data"
    },
    {
     "name": "stdout",
     "output_type": "stream",
     "text": [
      "\n",
      "Epoch 079\n",
      "  Train Loss: 0.0043 | Val Loss: 0.0116\n",
      "  Overall Val MAE: 0.2549, RMSE: 0.4244, R²: 0.7960\n",
      "  ↳ No improvement for 8/15 epochs\n"
     ]
    },
    {
     "data": {
      "application/vnd.jupyter.widget-view+json": {
       "model_id": "56953f1055434c54a631d9293af42eac",
       "version_major": 2,
       "version_minor": 0
      },
      "text/plain": [
       "Epoch 80:   0%|          | 0/59 [00:00<?, ?it/s]"
      ]
     },
     "metadata": {},
     "output_type": "display_data"
    },
    {
     "name": "stdout",
     "output_type": "stream",
     "text": [
      "\n",
      "Epoch 080\n",
      "  Train Loss: 0.0042 | Val Loss: 0.0115\n",
      "  Overall Val MAE: 0.2537, RMSE: 0.4233, R²: 0.7971\n",
      "  ↳ No improvement for 9/15 epochs\n"
     ]
    },
    {
     "data": {
      "application/vnd.jupyter.widget-view+json": {
       "model_id": "b04681f00fa241b098e17ea1305e4847",
       "version_major": 2,
       "version_minor": 0
      },
      "text/plain": [
       "Epoch 81:   0%|          | 0/59 [00:00<?, ?it/s]"
      ]
     },
     "metadata": {},
     "output_type": "display_data"
    },
    {
     "name": "stdout",
     "output_type": "stream",
     "text": [
      "\n",
      "Epoch 081\n",
      "  Train Loss: 0.0042 | Val Loss: 0.0115\n",
      "  Overall Val MAE: 0.2565, RMSE: 0.4233, R²: 0.7971\n",
      "  ↳ No improvement for 10/15 epochs\n"
     ]
    },
    {
     "data": {
      "application/vnd.jupyter.widget-view+json": {
       "model_id": "ed9f3d150c4a437bb0a46042a6f0a182",
       "version_major": 2,
       "version_minor": 0
      },
      "text/plain": [
       "Epoch 82:   0%|          | 0/59 [00:00<?, ?it/s]"
      ]
     },
     "metadata": {},
     "output_type": "display_data"
    },
    {
     "name": "stdout",
     "output_type": "stream",
     "text": [
      "\n",
      "Epoch 082\n",
      "  Train Loss: 0.0041 | Val Loss: 0.0114\n",
      "  Overall Val MAE: 0.2537, RMSE: 0.4193, R²: 0.8009\n",
      "  ↳ Model improved! Saving checkpoint...\n"
     ]
    },
    {
     "data": {
      "application/vnd.jupyter.widget-view+json": {
       "model_id": "120c4b23291646af8513b57ba3b38322",
       "version_major": 2,
       "version_minor": 0
      },
      "text/plain": [
       "Epoch 83:   0%|          | 0/59 [00:00<?, ?it/s]"
      ]
     },
     "metadata": {},
     "output_type": "display_data"
    },
    {
     "name": "stdout",
     "output_type": "stream",
     "text": [
      "\n",
      "Epoch 083\n",
      "  Train Loss: 0.0042 | Val Loss: 0.0116\n",
      "  Overall Val MAE: 0.2538, RMSE: 0.4229, R²: 0.7975\n",
      "  ↳ No improvement for 1/15 epochs\n"
     ]
    },
    {
     "data": {
      "application/vnd.jupyter.widget-view+json": {
       "model_id": "00efa5e7950b4a47a0ee3671f19d8da0",
       "version_major": 2,
       "version_minor": 0
      },
      "text/plain": [
       "Epoch 84:   0%|          | 0/59 [00:00<?, ?it/s]"
      ]
     },
     "metadata": {},
     "output_type": "display_data"
    },
    {
     "name": "stdout",
     "output_type": "stream",
     "text": [
      "\n",
      "Epoch 084\n",
      "  Train Loss: 0.0042 | Val Loss: 0.0114\n",
      "  Overall Val MAE: 0.2535, RMSE: 0.4204, R²: 0.7998\n",
      "  ↳ No improvement for 2/15 epochs\n"
     ]
    },
    {
     "data": {
      "application/vnd.jupyter.widget-view+json": {
       "model_id": "fd831571671345c0811cfe392c30b702",
       "version_major": 2,
       "version_minor": 0
      },
      "text/plain": [
       "Epoch 85:   0%|          | 0/59 [00:00<?, ?it/s]"
      ]
     },
     "metadata": {},
     "output_type": "display_data"
    },
    {
     "name": "stdout",
     "output_type": "stream",
     "text": [
      "\n",
      "Epoch 085\n",
      "  Train Loss: 0.0042 | Val Loss: 0.0115\n",
      "  Overall Val MAE: 0.2564, RMSE: 0.4233, R²: 0.7971\n",
      "  ↳ No improvement for 3/15 epochs\n"
     ]
    },
    {
     "data": {
      "application/vnd.jupyter.widget-view+json": {
       "model_id": "f40815dee5cb4d629f23ed7ce4ac2aed",
       "version_major": 2,
       "version_minor": 0
      },
      "text/plain": [
       "Epoch 86:   0%|          | 0/59 [00:00<?, ?it/s]"
      ]
     },
     "metadata": {},
     "output_type": "display_data"
    },
    {
     "name": "stdout",
     "output_type": "stream",
     "text": [
      "\n",
      "Epoch 086\n",
      "  Train Loss: 0.0042 | Val Loss: 0.0116\n",
      "  Overall Val MAE: 0.2537, RMSE: 0.4205, R²: 0.7998\n",
      "  ↳ No improvement for 4/15 epochs\n"
     ]
    },
    {
     "data": {
      "application/vnd.jupyter.widget-view+json": {
       "model_id": "c62e24fd3e774796bee7efb32ea6ab50",
       "version_major": 2,
       "version_minor": 0
      },
      "text/plain": [
       "Epoch 87:   0%|          | 0/59 [00:00<?, ?it/s]"
      ]
     },
     "metadata": {},
     "output_type": "display_data"
    },
    {
     "name": "stdout",
     "output_type": "stream",
     "text": [
      "\n",
      "Epoch 087\n",
      "  Train Loss: 0.0042 | Val Loss: 0.0115\n",
      "  Overall Val MAE: 0.2552, RMSE: 0.4221, R²: 0.7982\n",
      "  ↳ No improvement for 5/15 epochs\n"
     ]
    },
    {
     "data": {
      "application/vnd.jupyter.widget-view+json": {
       "model_id": "45156e5081f04ce49780ba135af7ed58",
       "version_major": 2,
       "version_minor": 0
      },
      "text/plain": [
       "Epoch 88:   0%|          | 0/59 [00:00<?, ?it/s]"
      ]
     },
     "metadata": {},
     "output_type": "display_data"
    },
    {
     "name": "stdout",
     "output_type": "stream",
     "text": [
      "\n",
      "Epoch 088\n",
      "  Train Loss: 0.0041 | Val Loss: 0.0115\n",
      "  Overall Val MAE: 0.2536, RMSE: 0.4208, R²: 0.7995\n",
      "  ↳ No improvement for 6/15 epochs\n"
     ]
    },
    {
     "data": {
      "application/vnd.jupyter.widget-view+json": {
       "model_id": "a9c76106e11a4d6db8e387d29e55bc27",
       "version_major": 2,
       "version_minor": 0
      },
      "text/plain": [
       "Epoch 89:   0%|          | 0/59 [00:00<?, ?it/s]"
      ]
     },
     "metadata": {},
     "output_type": "display_data"
    },
    {
     "name": "stdout",
     "output_type": "stream",
     "text": [
      "\n",
      "Epoch 089\n",
      "  Train Loss: 0.0041 | Val Loss: 0.0114\n",
      "  Overall Val MAE: 0.2525, RMSE: 0.4196, R²: 0.8006\n",
      "  ↳ No improvement for 7/15 epochs\n"
     ]
    },
    {
     "data": {
      "application/vnd.jupyter.widget-view+json": {
       "model_id": "af92c996be294b7caf181359b3c860c9",
       "version_major": 2,
       "version_minor": 0
      },
      "text/plain": [
       "Epoch 90:   0%|          | 0/59 [00:00<?, ?it/s]"
      ]
     },
     "metadata": {},
     "output_type": "display_data"
    },
    {
     "name": "stdout",
     "output_type": "stream",
     "text": [
      "\n",
      "Epoch 090\n",
      "  Train Loss: 0.0040 | Val Loss: 0.0114\n",
      "  Overall Val MAE: 0.2522, RMSE: 0.4182, R²: 0.8019\n",
      "  ↳ No improvement for 8/15 epochs\n"
     ]
    },
    {
     "data": {
      "application/vnd.jupyter.widget-view+json": {
       "model_id": "da012455d3a44a4684114d9f6c54d809",
       "version_major": 2,
       "version_minor": 0
      },
      "text/plain": [
       "Epoch 91:   0%|          | 0/59 [00:00<?, ?it/s]"
      ]
     },
     "metadata": {},
     "output_type": "display_data"
    },
    {
     "name": "stdout",
     "output_type": "stream",
     "text": [
      "\n",
      "Epoch 091\n",
      "  Train Loss: 0.0041 | Val Loss: 0.0115\n",
      "  Overall Val MAE: 0.2542, RMSE: 0.4189, R²: 0.8012\n",
      "  ↳ No improvement for 9/15 epochs\n"
     ]
    },
    {
     "data": {
      "application/vnd.jupyter.widget-view+json": {
       "model_id": "ba0fd72e9f764f3c904781c2d29fb72b",
       "version_major": 2,
       "version_minor": 0
      },
      "text/plain": [
       "Epoch 92:   0%|          | 0/59 [00:00<?, ?it/s]"
      ]
     },
     "metadata": {},
     "output_type": "display_data"
    },
    {
     "name": "stdout",
     "output_type": "stream",
     "text": [
      "\n",
      "Epoch 092\n",
      "  Train Loss: 0.0040 | Val Loss: 0.0115\n",
      "  Overall Val MAE: 0.2556, RMSE: 0.4204, R²: 0.7999\n",
      "  ↳ No improvement for 10/15 epochs\n"
     ]
    },
    {
     "data": {
      "application/vnd.jupyter.widget-view+json": {
       "model_id": "cc7c6724911a48dbaf6ef0feffb23038",
       "version_major": 2,
       "version_minor": 0
      },
      "text/plain": [
       "Epoch 93:   0%|          | 0/59 [00:00<?, ?it/s]"
      ]
     },
     "metadata": {},
     "output_type": "display_data"
    },
    {
     "name": "stdout",
     "output_type": "stream",
     "text": [
      "\n",
      "Epoch 093\n",
      "  Train Loss: 0.0041 | Val Loss: 0.0115\n",
      "  Overall Val MAE: 0.2540, RMSE: 0.4180, R²: 0.8021\n",
      "  ↳ No improvement for 11/15 epochs\n"
     ]
    },
    {
     "data": {
      "application/vnd.jupyter.widget-view+json": {
       "model_id": "13b809e3b9d84e68805b68abc2df300a",
       "version_major": 2,
       "version_minor": 0
      },
      "text/plain": [
       "Epoch 94:   0%|          | 0/59 [00:00<?, ?it/s]"
      ]
     },
     "metadata": {},
     "output_type": "display_data"
    },
    {
     "name": "stdout",
     "output_type": "stream",
     "text": [
      "\n",
      "Epoch 094\n",
      "  Train Loss: 0.0040 | Val Loss: 0.0115\n",
      "  Overall Val MAE: 0.2526, RMSE: 0.4168, R²: 0.8032\n",
      "  ↳ No improvement for 12/15 epochs\n"
     ]
    },
    {
     "data": {
      "application/vnd.jupyter.widget-view+json": {
       "model_id": "b98cac5e80134d10909f829b28c7999e",
       "version_major": 2,
       "version_minor": 0
      },
      "text/plain": [
       "Epoch 95:   0%|          | 0/59 [00:00<?, ?it/s]"
      ]
     },
     "metadata": {},
     "output_type": "display_data"
    },
    {
     "name": "stdout",
     "output_type": "stream",
     "text": [
      "\n",
      "Epoch 095\n",
      "  Train Loss: 0.0040 | Val Loss: 0.0115\n",
      "  Overall Val MAE: 0.2538, RMSE: 0.4185, R²: 0.8017\n",
      "  ↳ No improvement for 13/15 epochs\n"
     ]
    },
    {
     "data": {
      "application/vnd.jupyter.widget-view+json": {
       "model_id": "161e0db89f2941cb85ad42a3f47bc288",
       "version_major": 2,
       "version_minor": 0
      },
      "text/plain": [
       "Epoch 96:   0%|          | 0/59 [00:00<?, ?it/s]"
      ]
     },
     "metadata": {},
     "output_type": "display_data"
    },
    {
     "name": "stdout",
     "output_type": "stream",
     "text": [
      "\n",
      "Epoch 096\n",
      "  Train Loss: 0.0040 | Val Loss: 0.0114\n",
      "  Overall Val MAE: 0.2534, RMSE: 0.4168, R²: 0.8032\n",
      "  ↳ No improvement for 14/15 epochs\n"
     ]
    },
    {
     "data": {
      "application/vnd.jupyter.widget-view+json": {
       "model_id": "4eb7551657d141cb96a8f6c1a6157140",
       "version_major": 2,
       "version_minor": 0
      },
      "text/plain": [
       "Epoch 97:   0%|          | 0/59 [00:00<?, ?it/s]"
      ]
     },
     "metadata": {},
     "output_type": "display_data"
    },
    {
     "name": "stdout",
     "output_type": "stream",
     "text": [
      "\n",
      "Epoch 097\n",
      "  Train Loss: 0.0040 | Val Loss: 0.0115\n",
      "  Overall Val MAE: 0.2537, RMSE: 0.4183, R²: 0.8019\n",
      "  ↳ No improvement for 15/15 epochs\n",
      "Early stopping triggered!\n"
     ]
    }
   ],
   "source": [
    "# Training loop\n",
    "def train_model(model, train_loader, val_loader, criterion, optimizer, scheduler, epochs=300):\n",
    "    best_val_loss = float('inf')\n",
    "    patience = 15\n",
    "    no_improve = 0\n",
    "    \n",
    "    for epoch in range(epochs):\n",
    "        # Training phase\n",
    "        model.train()\n",
    "        train_loss = 0.0\n",
    "        for seq, features, targets, masks in tqdm(train_loader, desc=f\"Epoch {epoch+1}\"):\n",
    "            seq, features, targets, masks = (\n",
    "                seq.to(device), features.to(device), \n",
    "                targets.to(device), masks.to(device)\n",
    "            )\n",
    "            \n",
    "            optimizer.zero_grad()\n",
    "            outputs = model(seq, features)\n",
    "            loss = criterion(outputs, targets, masks, model)\n",
    "            loss.backward()\n",
    "            \n",
    "            # Gradient clipping\n",
    "            torch.nn.utils.clip_grad_norm_(model.parameters(), max_norm=1.0)\n",
    "            \n",
    "            optimizer.step()\n",
    "            train_loss += loss.item()\n",
    "        \n",
    "        avg_train_loss = train_loss / len(train_loader)\n",
    "        \n",
    "        # Validation phase\n",
    "        val_metrics = evaluate_model(model, val_loader, criterion, denorm=False)\n",
    "        val_loss = val_metrics['loss']\n",
    "        \n",
    "        # Update learning rate\n",
    "        scheduler.step(val_loss)\n",
    "        \n",
    "        # Print epoch summary\n",
    "        print(f\"\\nEpoch {epoch+1:03d}\")\n",
    "        print(f\"  Train Loss: {avg_train_loss:.4f} | Val Loss: {val_loss:.4f}\")\n",
    "        print(f\"  Overall Val MAE: {val_metrics['overall']['MAE']:.4f}, RMSE: {val_metrics['overall']['RMSE']:.4f}, R²: {val_metrics['overall']['R²']:.4f}\")\n",
    "        \n",
    "        # Early stopping and model checkpoint\n",
    "        if val_loss < best_val_loss:\n",
    "            best_val_loss = val_loss\n",
    "            torch.save(model.state_dict(), 'best_model.pth')\n",
    "            no_improve = 0\n",
    "            print(\"  ↳ Model improved! Saving checkpoint...\")\n",
    "        else:\n",
    "            no_improve += 1\n",
    "            print(f\"  ↳ No improvement for {no_improve}/{patience} epochs\")\n",
    "            if no_improve >= patience:\n",
    "                print(\"Early stopping triggered!\")\n",
    "                break\n",
    "    \n",
    "    # Load best model\n",
    "    model.load_state_dict(torch.load('best_model.pth'))\n",
    "    return model\n",
    "\n",
    "# Train the model\n",
    "print(\"\\nStarting model training...\")\n",
    "model = train_model(model, train_loader, val_loader, criterion, optimizer, scheduler, epochs=300)"
   ]
  },
  {
   "cell_type": "code",
   "execution_count": 55,
   "id": "baa2b15a-d346-4e3f-9346-e47480be7c07",
   "metadata": {},
   "outputs": [
    {
     "name": "stdout",
     "output_type": "stream",
     "text": [
      "\n",
      "Validation Metrics:\n",
      "  Tg (66 samples):\n",
      "    MAE: 61.7070  RMSE: 80.7569  R²: 0.3058\n",
      "  FFV (961 samples):\n",
      "    MAE: 0.0066  RMSE: 0.0112  R²: 0.8356\n",
      "  Tc (94 samples):\n",
      "    MAE: 0.0278  RMSE: 0.0398  R²: 0.8031\n",
      "  Density (84 samples):\n",
      "    MAE: 0.0313  RMSE: 0.0504  R²: 0.8545\n",
      "  Rg (84 samples):\n",
      "    MAE: 1.7347  RMSE: 2.6822  R²: 0.6912\n",
      "\n",
      "Overall Validation:\n",
      "  MAE: 3.2816\n",
      "  RMSE: 18.2865\n",
      "  R²: 0.5427\n",
      "\n",
      "Test Set Metrics:\n",
      "  Tg (82 samples):\n",
      "    MAE: 58.7250  RMSE: 72.6959  R²: 0.4536\n",
      "  FFV (1098 samples):\n",
      "    MAE: 0.0062  RMSE: 0.0106  R²: 0.8634\n",
      "  Tc (116 samples):\n",
      "    MAE: 0.0262  RMSE: 0.0393  R²: 0.8038\n",
      "  Density (93 samples):\n",
      "    MAE: 0.0377  RMSE: 0.0546  R²: 0.7301\n",
      "  Rg (94 samples):\n",
      "    MAE: 1.7128  RMSE: 2.4187  R²: 0.7317\n",
      "\n",
      "Overall Test:\n",
      "  MAE: 3.3647\n",
      "  RMSE: 17.1049\n",
      "  R²: 0.6808\n"
     ]
    }
   ],
   "source": [
    "# Evaluate on validation set\n",
    "val_metrics = evaluate_model(model, val_loader, criterion, denorm=True)\n",
    "print(\"\\nValidation Metrics:\")\n",
    "for prop, metrics in val_metrics['per_property'].items():\n",
    "    print(f\"  {prop} ({metrics['Samples']} samples):\")\n",
    "    print(f\"    MAE: {metrics['MAE']:.4f}  RMSE: {metrics['RMSE']:.4f}  R²: {metrics['R²']:.4f}\")\n",
    "\n",
    "print(\"\\nOverall Validation:\")\n",
    "print(f\"  MAE: {val_metrics['overall']['MAE']:.4f}\")\n",
    "print(f\"  RMSE: {val_metrics['overall']['RMSE']:.4f}\")\n",
    "print(f\"  R²: {val_metrics['overall']['R²']:.4f}\")\n",
    "\n",
    "# Evaluate on test set\n",
    "test_metrics = evaluate_model(model, test_loader, criterion, denorm=True)\n",
    "print(\"\\nTest Set Metrics:\")\n",
    "for prop, metrics in test_metrics['per_property'].items():\n",
    "    print(f\"  {prop} ({metrics['Samples']} samples):\")\n",
    "    print(f\"    MAE: {metrics['MAE']:.4f}  RMSE: {metrics['RMSE']:.4f}  R²: {metrics['R²']:.4f}\")\n",
    "\n",
    "print(\"\\nOverall Test:\")\n",
    "print(f\"  MAE: {test_metrics['overall']['MAE']:.4f}\")\n",
    "print(f\"  RMSE: {test_metrics['overall']['RMSE']:.4f}\")\n",
    "print(f\"  R²: {test_metrics['overall']['R²']:.4f}\")"
   ]
  },
  {
   "cell_type": "code",
   "execution_count": null,
   "id": "61a8fdff-547e-4247-9e13-dd55cff2a474",
   "metadata": {},
   "outputs": [],
   "source": []
  }
 ],
 "metadata": {
  "kernelspec": {
   "display_name": "Python 3 (ipykernel)",
   "language": "python",
   "name": "python3"
  },
  "language_info": {
   "codemirror_mode": {
    "name": "ipython",
    "version": 3
   },
   "file_extension": ".py",
   "mimetype": "text/x-python",
   "name": "python",
   "nbconvert_exporter": "python",
   "pygments_lexer": "ipython3",
   "version": "3.10.18"
  }
 },
 "nbformat": 4,
 "nbformat_minor": 5
}
